{
 "cells": [
  {
   "cell_type": "markdown",
   "id": "8a31db68",
   "metadata": {},
   "source": [
    "### First model\n",
    "\n",
    "- classfication on PD T1, with (pd_selected_df['TE'] == 2.980) & (pd_selected_df['TR'] == 2300.000) & (pd_selected_df['TI'] == 900.0)\n",
    "\n",
    "- '/w/246/gzk/PPMI/codes/first_model_csv_info.csv'\n",
    "\n"
   ]
  },
  {
   "cell_type": "markdown",
   "id": "76b35716",
   "metadata": {},
   "source": [
    "- first model was not good, it overfitted and the result were all zero, which is the most repeated class"
   ]
  },
  {
   "cell_type": "markdown",
   "id": "27555018",
   "metadata": {},
   "source": [
    "#### model v2\n",
    "- changed the images to jpeg, JpegProcessedDataset\n",
    "- csv file is changed now, and the processed data is changed too, jpeg_csv_path = '/w/246/gzk/PPMI/codes/first_model_jpeg_csv_info.csv'\n",
    "- model will be changed too\n",
    "- SimpleNet\n",
    "- save in v2"
   ]
  },
  {
   "cell_type": "markdown",
   "id": "70b298dd",
   "metadata": {},
   "source": [
    "#### V3\n",
    "- simplenet\n",
    "- balanced image, since it was giving 81 % accuracy"
   ]
  },
  {
   "cell_type": "markdown",
   "id": "1bf9f726",
   "metadata": {},
   "source": [
    "#### v4\n",
    "- resnet 18 with balanced data"
   ]
  },
  {
   "cell_type": "markdown",
   "id": "12d50107",
   "metadata": {},
   "source": [
    "what I need to do :\n",
    "    classify based on the severity\n",
    "    add the other T1 and T2 in order to do preprocessing for sake of comparison and shoe model are working\n",
    "    cluster the te, tr, ti images to see how it is , need the preprocessing before that"
   ]
  },
  {
   "cell_type": "code",
   "execution_count": 1,
   "id": "dc5211e2",
   "metadata": {},
   "outputs": [
    {
     "ename": "SyntaxError",
     "evalue": "invalid syntax (2535062540.py, line 1)",
     "output_type": "error",
     "traceback": [
      "\u001b[0;36m  File \u001b[0;32m\"/tmp/ipykernel_111466/2535062540.py\"\u001b[0;36m, line \u001b[0;32m1\u001b[0m\n\u001b[0;31m    یه سی اس وی دیگه درست کنم که همه‌ی T1 ها باشن و بعدش اونا رو بگم بچه‌ها ران کنن\u001b[0m\n\u001b[0m       ^\u001b[0m\n\u001b[0;31mSyntaxError\u001b[0m\u001b[0;31m:\u001b[0m invalid syntax\n"
     ]
    }
   ],
   "source": [
    "یه سی اس وی دیگه درست کنم که همه‌ی T1 ها باشن و بعدش اونا رو بگم بچه‌ها ران کنن\n",
    "هم برای کلاستر هم برای کلسیفیکیشن"
   ]
  },
  {
   "cell_type": "markdown",
   "id": "1f67c7d3",
   "metadata": {},
   "source": [
    "- T1_PD_preprocessed_2_csv_info.csv\n",
    "- path of saving the nifti of all T1 after step 2 of preprocessing,to make it ready for the clustring, removing all the repeated identifers\n",
    "- jpeg_folder = '/w/246/gzk/PPMI/T1_PD_clustring'\n",
    "- jpeg_csv_path = '/w/246/gzk/PPMI/codes/T1_PD_clustring.csv'"
   ]
  },
  {
   "cell_type": "markdown",
   "id": "154f47fa",
   "metadata": {},
   "source": [
    "- run autoencoder on server, d = 128, kind of overfitting and the loss was not changing\n",
    "- changed d to 256 to try and then play with other parameters"
   ]
  },
  {
   "cell_type": "markdown",
   "id": "2aa85eb3",
   "metadata": {},
   "source": [
    "- T1_T2_PDSubjects_preprocessed_2_csv_info.csv, path of skull stripping of t1, and t2 modalities , those the preprocessing has been run and not failed\n",
    "\n",
    "- T1_T2_pdSubject_mode_preprocessed2_path.csv --> mode, and path are added to this one"
   ]
  },
  {
   "cell_type": "markdown",
   "id": "a88e44c6",
   "metadata": {},
   "source": [
    "### PLAN"
   ]
  },
  {
   "cell_type": "markdown",
   "id": "8d26f064",
   "metadata": {},
   "source": [
    "- calssifiaction on T1 and T2\n",
    "- if it worked, on different mri sequences, it is kind of herirachial clustring\n",
    "- then combo of TR, TE, TI\n",
    "\n",
    "- and when any of this worked, the one on the severity metric"
   ]
  },
  {
   "cell_type": "markdown",
   "id": "ae3829e1",
   "metadata": {},
   "source": [
    "### T1 T2 classification\n",
    "- v1:\n",
    "    - JpegT1T2ProcessedDataset\n",
    "    - csv_path = '/w/246/gzk/PPMI/codes/T1_T2_pdsubject_jpeg_info.csv'\n",
    "    - model = SimpleNet(num_classes=2)\n",
    "    - results_base_path = '/w/284/gzk/result/T1_T2_classification/v1'\n",
    "\n",
    "\n",
    "    "
   ]
  },
  {
   "cell_type": "markdown",
   "id": "ebfd335f",
   "metadata": {},
   "source": [
    "### TE TR TI multi label classification\n",
    "- 'T1_TETRTE_multilable_csv_info.csv' --> csv info file is here"
   ]
  },
  {
   "cell_type": "markdown",
   "id": "c51ea20d",
   "metadata": {},
   "source": [
    "- mapping_dic_TE_TR_TI\n",
    "\n",
    "{0: (2.27, 1900.0, 900.0),\n",
    "\n",
    "1: (2.52, 2300.0, 900.0),\n",
    "\n",
    "2: (2.93, 2300.0, 900.0),\n",
    "\n",
    "3: (2.95, 2300.0, 900.0),\n",
    "\n",
    "4: (2.98, 2300.0, 900.0),\n",
    "\n",
    "5: (3.0, 2300.0, 900.0),\n",
    "\n",
    "6: (3.14, 1970.0, 1100.0),\n",
    "\n",
    "7: (3.17, 1970.0, 1100.0),\n",
    "\n",
    "8: (4.005, 8.5124, 0.0),\n",
    "\n",
    "9: (4.2, 13.0, 400.0),\n",
    "\n",
    "10: (5.168, 12.308, 500.0)}\n",
    "\n",
    "- train_ds = JpegT1_TETRTIProcessedDataset(csv_path, csv_label_path, 'train')\n",
    "- csv_path = '/w/246/gzk/PPMI/codes/T1_T2_pdsubject_jpeg_info.csv'\n",
    "- csv_label_path = '/w/246/gzk/PPMI/codes/T1_TETRTE_multilable_csv_info.csv'\n",
    "- results_base_path = '/w/284/gzk/result/T1_TETRTI/v1'\n"
   ]
  },
  {
   "cell_type": "code",
   "execution_count": 1,
   "id": "ebe1236b",
   "metadata": {},
   "outputs": [],
   "source": [
    "### v1: unbalanced\n",
    "### v2: balanaced data"
   ]
  },
  {
   "cell_type": "markdown",
   "id": "800e4f62",
   "metadata": {},
   "source": [
    "#### severity classification\n",
    "\n",
    "- T1_severity_score_info_csv.csv , info path including the scores\n",
    "- v1 on all the scores\n",
    "- v2: only most four frequent severity\n",
    "- v3: resnet not freez weights, also on 4 most frequent labels\n",
    "- v4: resnet, model = ResNet18Classifier(num_classes=4, freeze_weights=True, layers_to_train=['layer4', 'layer3'])\n",
    "- v5: resnet, model = ResNet18Classifier(num_classes=4, freeze_weights=True, layers_to_train=['layer4'])\n",
    "- v6: resnet, only classifier, freeze_weights=False\n",
    "\n"
   ]
  },
  {
   "cell_type": "markdown",
   "id": "da5394bf",
   "metadata": {},
   "source": [
    "#### severity with features\n",
    "\n",
    "- v1: ResnetJpegSeveritySelectedLabelsWithNonImageFeaturesProcessedDataset, train_with_features, \n",
    "    - includes all the features\n",
    "    - resnet, freezing all the all layer and only train the classifier\n",
    "    \n",
    "- v2: \n",
    "    - same as previous\n",
    "    - just add one features at a time : 'Weighting_x'\n",
    "    - resnet and everything else are the same\n",
    "- v3:\n",
    "    - 'Pulse Sequence' \n",
    "- v4: TE_x = 98\n",
    "- v5 : TR_x = 99\n",
    "- v6: TI_x = 15\n",
    "- v7: Manufacturer_x, 5\n",
    "- 78: Mfg Model, 20\n",
    "- v9: TE, TR, TI = 212"
   ]
  },
  {
   "cell_type": "markdown",
   "id": "e5d744c9",
   "metadata": {},
   "source": [
    "v10, is the balanced model for the severity only and resnet only freezing the model.\n",
    "\n",
    "v11 is the balnced version of v7\n",
    "\n",
    "v12 is balanced version of v3"
   ]
  },
  {
   "cell_type": "markdown",
   "id": "ccaf4dba",
   "metadata": {},
   "source": [
    "v13 is balanced version of v9"
   ]
  },
  {
   "cell_type": "code",
   "execution_count": null,
   "id": "1c4b2c1a",
   "metadata": {},
   "outputs": [],
   "source": []
  }
 ],
 "metadata": {
  "kernelspec": {
   "display_name": "Python 3 (ipykernel)",
   "language": "python",
   "name": "python3"
  },
  "language_info": {
   "codemirror_mode": {
    "name": "ipython",
    "version": 3
   },
   "file_extension": ".py",
   "mimetype": "text/x-python",
   "name": "python",
   "nbconvert_exporter": "python",
   "pygments_lexer": "ipython3",
   "version": "3.9.5"
  }
 },
 "nbformat": 4,
 "nbformat_minor": 5
}
