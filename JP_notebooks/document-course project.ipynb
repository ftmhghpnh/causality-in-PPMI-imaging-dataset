{
 "cells": [
  {
   "cell_type": "markdown",
   "id": "0c70d4cf",
   "metadata": {},
   "source": [
    "### Steps"
   ]
  },
  {
   "cell_type": "markdown",
   "id": "beb46269",
   "metadata": {},
   "source": [
    "##### BAckwards\n",
    "- run the classification model\n",
    "- train CNN classification on images and features in mind\n",
    "- find classification model\n",
    "- code the data processed part\n",
    "- preprocessing pipeline\n",
    "- create the data CSV"
   ]
  },
  {
   "cell_type": "markdown",
   "id": "5c69aa3c",
   "metadata": {},
   "source": [
    "Index(['siteKey', 'researchGroup', 'subjectIdentifier', 'visitIdentifier',\n",
    "       'studyIdentifier', 'seriesIdentifier', 'subjectSex', 'subjectAge',\n",
    "       'ageQualifier', 'weightKg', 'dateAcquired', 'imageUID', 'description',\n",
    "       'Acquisition Type', 'Weighting', 'Pulse Sequence', 'Slice Thickness',\n",
    "       'TE', 'TR', 'TI', 'Coil', 'Flip Angle', 'Acquisition Plane', 'Matrix X',\n",
    "       'Matrix Y', 'Matrix Z', 'Pixel Spacing X', 'Pixel Spacing Y',\n",
    "       'Manufacturer', 'Mfg Model', 'Field Strength'],\n",
    "      dtype='object')"
   ]
  },
  {
   "cell_type": "markdown",
   "id": "0a3dd4b9",
   "metadata": {},
   "source": [
    "##### For CSV\n",
    "\n",
    "- subject identifier\n",
    "- image path\n",
    "- features --> all the acquisition parameters\n",
    "- deviding the data in test, train, and validation --> and make sure there is no overlap between them in sense of having more than one subject, since we have lot image for each subject\n"
   ]
  },
  {
   "cell_type": "code",
   "execution_count": null,
   "id": "835b037a",
   "metadata": {},
   "outputs": [],
   "source": []
  }
 ],
 "metadata": {
  "kernelspec": {
   "display_name": "Python 3 (ipykernel)",
   "language": "python",
   "name": "python3"
  },
  "language_info": {
   "codemirror_mode": {
    "name": "ipython",
    "version": 3
   },
   "file_extension": ".py",
   "mimetype": "text/x-python",
   "name": "python",
   "nbconvert_exporter": "python",
   "pygments_lexer": "ipython3",
   "version": "3.9.5"
  }
 },
 "nbformat": 4,
 "nbformat_minor": 5
}
