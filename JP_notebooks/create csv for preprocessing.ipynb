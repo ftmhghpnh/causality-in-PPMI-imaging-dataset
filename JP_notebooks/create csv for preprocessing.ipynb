{
 "cells": [
  {
   "cell_type": "code",
   "execution_count": 1,
   "id": "4243eb43",
   "metadata": {},
   "outputs": [],
   "source": [
    "import os\n",
    "import pandas as pd\n",
    "import numpy as np\n",
    "import nibabel as nb\n",
    "import matplotlib.pyplot as plt"
   ]
  },
  {
   "cell_type": "code",
   "execution_count": 2,
   "id": "a743f1a3",
   "metadata": {},
   "outputs": [],
   "source": [
    "control_csv_path = '../CSV_metadata/metadata_control_2.csv'\n",
    "pd_csv_path = '../CSV_metadata/metadata_PD_2.csv'"
   ]
  },
  {
   "cell_type": "code",
   "execution_count": 3,
   "id": "c7e99bab",
   "metadata": {},
   "outputs": [
    {
     "name": "stdout",
     "output_type": "stream",
     "text": [
      "4057\n"
     ]
    }
   ],
   "source": [
    "PD_df = pd.read_csv(pd_csv_path)\n",
    "PD_df.head()\n",
    "print(len(PD_df))"
   ]
  },
  {
   "cell_type": "code",
   "execution_count": 4,
   "id": "7debeb21",
   "metadata": {},
   "outputs": [
    {
     "data": {
      "text/plain": [
       "Index(['siteKey', 'researchGroup', 'subjectIdentifier', 'visitIdentifier',\n",
       "       'studyIdentifier', 'seriesIdentifier', 'subjectSex', 'subjectAge',\n",
       "       'ageQualifier', 'weightKg', 'dateAcquired', 'imageUID', 'description',\n",
       "       'Acquisition Type', 'Weighting', 'Pulse Sequence', 'Slice Thickness',\n",
       "       'TE', 'TR', 'TI', 'Coil', 'Flip Angle', 'Acquisition Plane', 'Matrix X',\n",
       "       'Matrix Y', 'Matrix Z', 'Pixel Spacing X', 'Pixel Spacing Y',\n",
       "       'Manufacturer', 'Mfg Model', 'Field Strength'],\n",
       "      dtype='object')"
      ]
     },
     "execution_count": 4,
     "metadata": {},
     "output_type": "execute_result"
    }
   ],
   "source": [
    "PD_df.keys()"
   ]
  },
  {
   "cell_type": "code",
   "execution_count": 5,
   "id": "76b79007",
   "metadata": {},
   "outputs": [
    {
     "data": {
      "text/html": [
       "<div>\n",
       "<style scoped>\n",
       "    .dataframe tbody tr th:only-of-type {\n",
       "        vertical-align: middle;\n",
       "    }\n",
       "\n",
       "    .dataframe tbody tr th {\n",
       "        vertical-align: top;\n",
       "    }\n",
       "\n",
       "    .dataframe thead th {\n",
       "        text-align: right;\n",
       "    }\n",
       "</style>\n",
       "<table border=\"1\" class=\"dataframe\">\n",
       "  <thead>\n",
       "    <tr style=\"text-align: right;\">\n",
       "      <th></th>\n",
       "      <th>siteKey</th>\n",
       "      <th>researchGroup</th>\n",
       "      <th>subjectIdentifier</th>\n",
       "      <th>visitIdentifier</th>\n",
       "      <th>studyIdentifier</th>\n",
       "      <th>seriesIdentifier</th>\n",
       "      <th>subjectSex</th>\n",
       "      <th>subjectAge</th>\n",
       "      <th>ageQualifier</th>\n",
       "      <th>weightKg</th>\n",
       "      <th>...</th>\n",
       "      <th>Flip Angle</th>\n",
       "      <th>Acquisition Plane</th>\n",
       "      <th>Matrix X</th>\n",
       "      <th>Matrix Y</th>\n",
       "      <th>Matrix Z</th>\n",
       "      <th>Pixel Spacing X</th>\n",
       "      <th>Pixel Spacing Y</th>\n",
       "      <th>Manufacturer</th>\n",
       "      <th>Mfg Model</th>\n",
       "      <th>Field Strength</th>\n",
       "    </tr>\n",
       "  </thead>\n",
       "  <tbody>\n",
       "    <tr>\n",
       "      <th>0</th>\n",
       "      <td>34</td>\n",
       "      <td>PD</td>\n",
       "      <td>100001</td>\n",
       "      <td>Baseline</td>\n",
       "      <td>168485</td>\n",
       "      <td>1047642</td>\n",
       "      <td>M</td>\n",
       "      <td>67.38</td>\n",
       "      <td>Y</td>\n",
       "      <td>87.0</td>\n",
       "      <td>...</td>\n",
       "      <td>120</td>\n",
       "      <td>SAGITTAL</td>\n",
       "      <td>256</td>\n",
       "      <td>256</td>\n",
       "      <td>192</td>\n",
       "      <td>1.00000</td>\n",
       "      <td>1.00000</td>\n",
       "      <td>SIEMENS</td>\n",
       "      <td>Verio</td>\n",
       "      <td>3.0</td>\n",
       "    </tr>\n",
       "    <tr>\n",
       "      <th>1</th>\n",
       "      <td>34</td>\n",
       "      <td>PD</td>\n",
       "      <td>100001</td>\n",
       "      <td>Baseline</td>\n",
       "      <td>168485</td>\n",
       "      <td>1047641</td>\n",
       "      <td>M</td>\n",
       "      <td>67.38</td>\n",
       "      <td>Y</td>\n",
       "      <td>87.0</td>\n",
       "      <td>...</td>\n",
       "      <td>120</td>\n",
       "      <td>SAGITTAL</td>\n",
       "      <td>256</td>\n",
       "      <td>256</td>\n",
       "      <td>192</td>\n",
       "      <td>1.00000</td>\n",
       "      <td>1.00000</td>\n",
       "      <td>SIEMENS</td>\n",
       "      <td>Verio</td>\n",
       "      <td>3.0</td>\n",
       "    </tr>\n",
       "    <tr>\n",
       "      <th>2</th>\n",
       "      <td>34</td>\n",
       "      <td>PD</td>\n",
       "      <td>100001</td>\n",
       "      <td>Baseline</td>\n",
       "      <td>168485</td>\n",
       "      <td>1047640</td>\n",
       "      <td>M</td>\n",
       "      <td>67.38</td>\n",
       "      <td>Y</td>\n",
       "      <td>87.0</td>\n",
       "      <td>...</td>\n",
       "      <td>20</td>\n",
       "      <td>AXIAL</td>\n",
       "      <td>512</td>\n",
       "      <td>512</td>\n",
       "      <td>5</td>\n",
       "      <td>0.48828</td>\n",
       "      <td>0.48828</td>\n",
       "      <td>SIEMENS</td>\n",
       "      <td>Verio</td>\n",
       "      <td>3.0</td>\n",
       "    </tr>\n",
       "    <tr>\n",
       "      <th>3</th>\n",
       "      <td>34</td>\n",
       "      <td>PD</td>\n",
       "      <td>100001</td>\n",
       "      <td>Baseline</td>\n",
       "      <td>168485</td>\n",
       "      <td>1047640</td>\n",
       "      <td>M</td>\n",
       "      <td>67.38</td>\n",
       "      <td>Y</td>\n",
       "      <td>87.0</td>\n",
       "      <td>...</td>\n",
       "      <td>20</td>\n",
       "      <td>CORONAL</td>\n",
       "      <td>512</td>\n",
       "      <td>512</td>\n",
       "      <td>5</td>\n",
       "      <td>0.48828</td>\n",
       "      <td>0.48828</td>\n",
       "      <td>SIEMENS</td>\n",
       "      <td>Verio</td>\n",
       "      <td>3.0</td>\n",
       "    </tr>\n",
       "    <tr>\n",
       "      <th>4</th>\n",
       "      <td>34</td>\n",
       "      <td>PD</td>\n",
       "      <td>100001</td>\n",
       "      <td>Baseline</td>\n",
       "      <td>168485</td>\n",
       "      <td>1047640</td>\n",
       "      <td>M</td>\n",
       "      <td>67.38</td>\n",
       "      <td>Y</td>\n",
       "      <td>87.0</td>\n",
       "      <td>...</td>\n",
       "      <td>20</td>\n",
       "      <td>SAGITTAL</td>\n",
       "      <td>512</td>\n",
       "      <td>512</td>\n",
       "      <td>5</td>\n",
       "      <td>0.48828</td>\n",
       "      <td>0.48828</td>\n",
       "      <td>SIEMENS</td>\n",
       "      <td>Verio</td>\n",
       "      <td>3.0</td>\n",
       "    </tr>\n",
       "  </tbody>\n",
       "</table>\n",
       "<p>5 rows × 31 columns</p>\n",
       "</div>"
      ],
      "text/plain": [
       "   siteKey researchGroup  subjectIdentifier visitIdentifier  studyIdentifier  \\\n",
       "0       34            PD             100001        Baseline           168485   \n",
       "1       34            PD             100001        Baseline           168485   \n",
       "2       34            PD             100001        Baseline           168485   \n",
       "3       34            PD             100001        Baseline           168485   \n",
       "4       34            PD             100001        Baseline           168485   \n",
       "\n",
       "   seriesIdentifier subjectSex  subjectAge ageQualifier  weightKg  ...  \\\n",
       "0           1047642          M       67.38            Y      87.0  ...   \n",
       "1           1047641          M       67.38            Y      87.0  ...   \n",
       "2           1047640          M       67.38            Y      87.0  ...   \n",
       "3           1047640          M       67.38            Y      87.0  ...   \n",
       "4           1047640          M       67.38            Y      87.0  ...   \n",
       "\n",
       "  Flip Angle  Acquisition Plane Matrix X Matrix Y Matrix Z Pixel Spacing X  \\\n",
       "0        120           SAGITTAL      256      256      192         1.00000   \n",
       "1        120           SAGITTAL      256      256      192         1.00000   \n",
       "2         20              AXIAL      512      512        5         0.48828   \n",
       "3         20            CORONAL      512      512        5         0.48828   \n",
       "4         20           SAGITTAL      512      512        5         0.48828   \n",
       "\n",
       "   Pixel Spacing Y  Manufacturer  Mfg Model  Field Strength  \n",
       "0          1.00000       SIEMENS      Verio             3.0  \n",
       "1          1.00000       SIEMENS      Verio             3.0  \n",
       "2          0.48828       SIEMENS      Verio             3.0  \n",
       "3          0.48828       SIEMENS      Verio             3.0  \n",
       "4          0.48828       SIEMENS      Verio             3.0  \n",
       "\n",
       "[5 rows x 31 columns]"
      ]
     },
     "execution_count": 5,
     "metadata": {},
     "output_type": "execute_result"
    }
   ],
   "source": [
    "PD_df.head()"
   ]
  },
  {
   "cell_type": "code",
   "execution_count": 6,
   "id": "9298f51b",
   "metadata": {},
   "outputs": [
    {
     "data": {
      "text/plain": [
       "array(['SE/IR', 'GR', 'SE', 'EP', 'GR/IR', 'GR/GR/GR/GR/GR',\n",
       "       'IR/IR/IR/IR/IR', 'RM', 'IR', 'EP/SE', 'IR/SE', 'IR/GR',\n",
       "       'SE/SE/SE/SE/SE', nan], dtype=object)"
      ]
     },
     "execution_count": 6,
     "metadata": {},
     "output_type": "execute_result"
    }
   ],
   "source": [
    "PD_df['Pulse Sequence'].unique()"
   ]
  },
  {
   "cell_type": "code",
   "execution_count": 7,
   "id": "64a11748",
   "metadata": {},
   "outputs": [
    {
     "data": {
      "text/plain": [
       "array(['SAGITTAL', 'AXIAL', 'CORONAL'], dtype=object)"
      ]
     },
     "execution_count": 7,
     "metadata": {},
     "output_type": "execute_result"
    }
   ],
   "source": [
    "PD_df['Acquisition Plane'].unique()"
   ]
  },
  {
   "cell_type": "code",
   "execution_count": 8,
   "id": "41b13ec2",
   "metadata": {},
   "outputs": [
    {
     "data": {
      "text/plain": [
       "array(['T2', 'T1', 'PD'], dtype=object)"
      ]
     },
     "execution_count": 8,
     "metadata": {},
     "output_type": "execute_result"
    }
   ],
   "source": [
    "PD_df['Weighting'].unique()"
   ]
  },
  {
   "cell_type": "code",
   "execution_count": 9,
   "id": "126880a3",
   "metadata": {},
   "outputs": [],
   "source": [
    "## pd id proton density "
   ]
  },
  {
   "cell_type": "code",
   "execution_count": null,
   "id": "9cf21f7b",
   "metadata": {},
   "outputs": [],
   "source": []
  }
 ],
 "metadata": {
  "kernelspec": {
   "display_name": "Python 3 (ipykernel)",
   "language": "python",
   "name": "python3"
  },
  "language_info": {
   "codemirror_mode": {
    "name": "ipython",
    "version": 3
   },
   "file_extension": ".py",
   "mimetype": "text/x-python",
   "name": "python",
   "nbconvert_exporter": "python",
   "pygments_lexer": "ipython3",
   "version": "3.9.5"
  }
 },
 "nbformat": 4,
 "nbformat_minor": 5
}
