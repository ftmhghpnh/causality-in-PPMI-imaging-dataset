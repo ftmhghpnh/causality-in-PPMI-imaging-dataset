{
 "cells": [
  {
   "cell_type": "code",
   "execution_count": 67,
   "id": "387b9f93",
   "metadata": {},
   "outputs": [],
   "source": [
    "import os\n",
    "import numpy as np\n",
    "import pandas as pd\n",
    "import matplotlib.pyplot as plt"
   ]
  },
  {
   "cell_type": "code",
   "execution_count": 3,
   "id": "d78c72c6",
   "metadata": {},
   "outputs": [],
   "source": [
    "severity_path_2 = '/w/246/gzk/PPMI/CSV_metadata/metadata_PD_2.csv'\n",
    "severity_path_3 = '/w/246/gzk/PPMI/CSV_metadata/metadata_PD_3.csv'"
   ]
  },
  {
   "cell_type": "code",
   "execution_count": 4,
   "id": "ef9401b5",
   "metadata": {},
   "outputs": [
    {
     "data": {
      "text/plain": [
       "Index(['siteKey', 'researchGroup', 'subjectIdentifier', 'visitIdentifier',\n",
       "       'studyIdentifier', 'seriesIdentifier', 'subjectSex', 'subjectAge',\n",
       "       'ageQualifier', 'weightKg', 'dateAcquired', 'imageUID', 'description',\n",
       "       'Acquisition Type', 'Weighting', 'Pulse Sequence', 'Slice Thickness',\n",
       "       'TE', 'TR', 'TI', 'Coil', 'Flip Angle', 'Acquisition Plane', 'Matrix X',\n",
       "       'Matrix Y', 'Matrix Z', 'Pixel Spacing X', 'Pixel Spacing Y',\n",
       "       'Manufacturer', 'Mfg Model', 'Field Strength'],\n",
       "      dtype='object')"
      ]
     },
     "execution_count": 4,
     "metadata": {},
     "output_type": "execute_result"
    }
   ],
   "source": [
    "df_2 = pd.read_csv(severity_path_2)\n",
    "df_2.keys()"
   ]
  },
  {
   "cell_type": "code",
   "execution_count": 5,
   "id": "b067e525",
   "metadata": {},
   "outputs": [
    {
     "data": {
      "text/plain": [
       "Index(['Unnamed: 0', 'siteKey', 'researchGroup', 'subjectIdentifier',\n",
       "       'visitIdentifier', 'studyIdentifier', 'seriesIdentifier', 'subjectSex',\n",
       "       'subjectAge', 'ageQualifier', 'weightKg', 'dateAcquired', 'imageUID',\n",
       "       'description', 'Acquisition.Type', 'Weighting', 'Pulse.Sequence',\n",
       "       'Slice.Thickness', 'TE', 'TR', 'TI', 'Coil', 'Flip.Angle',\n",
       "       'Acquisition.Plane', 'Matrix.X', 'Matrix.Y', 'Matrix.Z',\n",
       "       'Pixel.Spacing.X', 'Pixel.Spacing.Y', 'Manufacturer', 'Mfg.Model',\n",
       "       'Field.Strength', 'schwab'],\n",
       "      dtype='object')"
      ]
     },
     "execution_count": 5,
     "metadata": {},
     "output_type": "execute_result"
    }
   ],
   "source": [
    "df_3 = pd.read_csv(severity_path_3)\n",
    "df_3.keys()"
   ]
  },
  {
   "cell_type": "code",
   "execution_count": 6,
   "id": "b60e0c94",
   "metadata": {},
   "outputs": [
    {
     "data": {
      "text/plain": [
       "array([ 90, 100,  95,  85,  80,  60,  70,  75,  65,  50,  40])"
      ]
     },
     "execution_count": 6,
     "metadata": {},
     "output_type": "execute_result"
    }
   ],
   "source": [
    "df_3['schwab'].unique()"
   ]
  },
  {
   "cell_type": "code",
   "execution_count": 7,
   "id": "676ba2b4",
   "metadata": {},
   "outputs": [],
   "source": [
    "T1_df = df_3[df_3['Weighting'] == 'T1']"
   ]
  },
  {
   "cell_type": "code",
   "execution_count": 8,
   "id": "b17e7387",
   "metadata": {},
   "outputs": [],
   "source": [
    "tmp = T1_df.groupby(['schwab']).size().reset_index(name='counts')"
   ]
  },
  {
   "cell_type": "code",
   "execution_count": 68,
   "id": "d8b3b9c2",
   "metadata": {
    "scrolled": false
   },
   "outputs": [
    {
     "data": {
      "text/html": [
       "<div>\n",
       "<style scoped>\n",
       "    .dataframe tbody tr th:only-of-type {\n",
       "        vertical-align: middle;\n",
       "    }\n",
       "\n",
       "    .dataframe tbody tr th {\n",
       "        vertical-align: top;\n",
       "    }\n",
       "\n",
       "    .dataframe thead th {\n",
       "        text-align: right;\n",
       "    }\n",
       "</style>\n",
       "<table border=\"1\" class=\"dataframe\">\n",
       "  <thead>\n",
       "    <tr style=\"text-align: right;\">\n",
       "      <th></th>\n",
       "      <th>schwab</th>\n",
       "      <th>counts</th>\n",
       "    </tr>\n",
       "  </thead>\n",
       "  <tbody>\n",
       "    <tr>\n",
       "      <th>0</th>\n",
       "      <td>50</td>\n",
       "      <td>2</td>\n",
       "    </tr>\n",
       "    <tr>\n",
       "      <th>1</th>\n",
       "      <td>60</td>\n",
       "      <td>4</td>\n",
       "    </tr>\n",
       "    <tr>\n",
       "      <th>2</th>\n",
       "      <td>65</td>\n",
       "      <td>1</td>\n",
       "    </tr>\n",
       "    <tr>\n",
       "      <th>3</th>\n",
       "      <td>70</td>\n",
       "      <td>38</td>\n",
       "    </tr>\n",
       "    <tr>\n",
       "      <th>4</th>\n",
       "      <td>75</td>\n",
       "      <td>6</td>\n",
       "    </tr>\n",
       "    <tr>\n",
       "      <th>5</th>\n",
       "      <td>80</td>\n",
       "      <td>154</td>\n",
       "    </tr>\n",
       "    <tr>\n",
       "      <th>6</th>\n",
       "      <td>85</td>\n",
       "      <td>44</td>\n",
       "    </tr>\n",
       "    <tr>\n",
       "      <th>7</th>\n",
       "      <td>90</td>\n",
       "      <td>691</td>\n",
       "    </tr>\n",
       "    <tr>\n",
       "      <th>8</th>\n",
       "      <td>95</td>\n",
       "      <td>207</td>\n",
       "    </tr>\n",
       "    <tr>\n",
       "      <th>9</th>\n",
       "      <td>100</td>\n",
       "      <td>382</td>\n",
       "    </tr>\n",
       "  </tbody>\n",
       "</table>\n",
       "</div>"
      ],
      "text/plain": [
       "   schwab  counts\n",
       "0      50       2\n",
       "1      60       4\n",
       "2      65       1\n",
       "3      70      38\n",
       "4      75       6\n",
       "5      80     154\n",
       "6      85      44\n",
       "7      90     691\n",
       "8      95     207\n",
       "9     100     382"
      ]
     },
     "execution_count": 68,
     "metadata": {},
     "output_type": "execute_result"
    }
   ],
   "source": [
    "tmp"
   ]
  },
  {
   "cell_type": "code",
   "execution_count": 73,
   "id": "77c006e1",
   "metadata": {},
   "outputs": [
    {
     "data": {
      "image/png": "[encoded data removed]",
      "text/plain": [
       "<Figure size 576x360 with 1 Axes>"
      ]
     },
     "metadata": {
      "needs_background": "light"
     },
     "output_type": "display_data"
    }
   ],
   "source": [
    "severity_score_count_dic = {}\n",
    "for index, row in tmp.iterrows():\n",
    "    severity_score_count_dic[str(row['schwab'])] = row['counts']\n",
    "\n",
    "plt.figure(figsize = (8, 5))    \n",
    "X_axis = np.arange(len(severity_score_count_dic.keys()))\n",
    "plt.bar(severity_score_count_dic.keys(), severity_score_count_dic.values()) \n",
    "plt.xticks(X_axis, severity_score_count_dic.keys())\n",
    "plt.title('number of images for different Schwab severity score')\n",
    "\n",
    "\n",
    "# X_axis = np.arange(len(siteKey_lists))\n",
    "# plt.figure(figsize = (15, 5)) \n",
    "# plt.bar(X_axis - 0.2, female_counts, 0.4, label = 'Female')\n",
    "# plt.bar(X_axis + 0.2, male_counts, 0.4, label = 'Male')\n",
    "  \n",
    "\n",
    "# plt.xlabel(\"Groups\")\n",
    "# plt.ylabel(\"Number of Studies\")\n",
    "# plt.title(\"Counts\")\n",
    "# plt.legend()\n",
    "plt.savefig('test.png', dpi=1000)\n",
    "plt.show()"
   ]
  },
  {
   "cell_type": "code",
   "execution_count": 10,
   "id": "3e11b605",
   "metadata": {},
   "outputs": [
    {
     "data": {
      "text/plain": [
       "1529"
      ]
     },
     "execution_count": 10,
     "metadata": {},
     "output_type": "execute_result"
    }
   ],
   "source": [
    "len(T1_df)"
   ]
  },
  {
   "cell_type": "code",
   "execution_count": 11,
   "id": "724464a6",
   "metadata": {},
   "outputs": [
    {
     "data": {
      "text/plain": [
       "[50, 60, 65, 70, 75, 80, 85, 90, 95, 100]"
      ]
     },
     "execution_count": 11,
     "metadata": {},
     "output_type": "execute_result"
    }
   ],
   "source": [
    "tmp['schwab'].tolist()"
   ]
  },
  {
   "cell_type": "code",
   "execution_count": 11,
   "id": "23e16eb3",
   "metadata": {},
   "outputs": [
    {
     "data": {
      "text/plain": [
       "1529"
      ]
     },
     "execution_count": 11,
     "metadata": {},
     "output_type": "execute_result"
    }
   ],
   "source": [
    "len(T1_df)"
   ]
  },
  {
   "cell_type": "code",
   "execution_count": 12,
   "id": "901e64e1",
   "metadata": {},
   "outputs": [],
   "source": [
    "#### severity clustring of 1) T1 fixed TETRTI, 2) T1 multiple TRTETI, \n",
    "#### complete the clustring\n",
    "#### do the clustring based on the probability map, only the middle frame and combination of the 3 different tissues\n",
    "#### do the classification based on the probability maps, if they are heavy, just couple of frames, for TETR ..."
   ]
  },
  {
   "cell_type": "code",
   "execution_count": 13,
   "id": "f1f54949",
   "metadata": {},
   "outputs": [],
   "source": [
    "### برای دل خودمون می‌شه  یدونه سایت کلسیفیکیشن بر اساس همین دیتایی که دادن هم ران کنیم و ببینم اون چطوره مثلا :-؟"
   ]
  },
  {
   "cell_type": "code",
   "execution_count": 14,
   "id": "96594e22",
   "metadata": {},
   "outputs": [
    {
     "data": {
      "text/plain": [
       "3180"
      ]
     },
     "execution_count": 14,
     "metadata": {},
     "output_type": "execute_result"
    }
   ],
   "source": [
    "len(df_3['seriesIdentifier'].unique())"
   ]
  },
  {
   "cell_type": "code",
   "execution_count": 12,
   "id": "d5fd6e90",
   "metadata": {},
   "outputs": [],
   "source": [
    "path_included_df = pd.read_csv('T1_T2_path_of_step2_included.csv')"
   ]
  },
  {
   "cell_type": "code",
   "execution_count": 13,
   "id": "a3945407",
   "metadata": {},
   "outputs": [
    {
     "data": {
      "text/plain": [
       "1126"
      ]
     },
     "execution_count": 13,
     "metadata": {},
     "output_type": "execute_result"
    }
   ],
   "source": [
    "len(path_included_df)"
   ]
  },
  {
   "cell_type": "code",
   "execution_count": 14,
   "id": "d9d036e6",
   "metadata": {},
   "outputs": [],
   "source": [
    "keep_seriesIdentifer_list = path_included_df['seriesIdentifier'].tolist()"
   ]
  },
  {
   "cell_type": "code",
   "execution_count": 15,
   "id": "c519a560",
   "metadata": {},
   "outputs": [
    {
     "data": {
      "text/plain": [
       "1126"
      ]
     },
     "execution_count": 15,
     "metadata": {},
     "output_type": "execute_result"
    }
   ],
   "source": [
    "len(keep_seriesIdentifer_list)"
   ]
  },
  {
   "cell_type": "code",
   "execution_count": 16,
   "id": "1b3a66aa",
   "metadata": {
    "scrolled": true
   },
   "outputs": [
    {
     "name": "stdout",
     "output_type": "stream",
     "text": [
      "1126 1126\n"
     ]
    }
   ],
   "source": [
    "df_3_filtered_series = df_3[df_3['seriesIdentifier'].isin(keep_seriesIdentifer_list)]\n",
    "print(len(df_3_filtered_series), len(df_3_filtered_series['seriesIdentifier'].unique()))"
   ]
  },
  {
   "cell_type": "code",
   "execution_count": 17,
   "id": "652dd5db",
   "metadata": {
    "scrolled": true
   },
   "outputs": [
    {
     "data": {
      "text/html": [
       "<div>\n",
       "<style scoped>\n",
       "    .dataframe tbody tr th:only-of-type {\n",
       "        vertical-align: middle;\n",
       "    }\n",
       "\n",
       "    .dataframe tbody tr th {\n",
       "        vertical-align: top;\n",
       "    }\n",
       "\n",
       "    .dataframe thead th {\n",
       "        text-align: right;\n",
       "    }\n",
       "</style>\n",
       "<table border=\"1\" class=\"dataframe\">\n",
       "  <thead>\n",
       "    <tr style=\"text-align: right;\">\n",
       "      <th></th>\n",
       "      <th>seriesIdentifier</th>\n",
       "      <th>counts</th>\n",
       "    </tr>\n",
       "  </thead>\n",
       "  <tbody>\n",
       "  </tbody>\n",
       "</table>\n",
       "</div>"
      ],
      "text/plain": [
       "Empty DataFrame\n",
       "Columns: [seriesIdentifier, counts]\n",
       "Index: []"
      ]
     },
     "execution_count": 17,
     "metadata": {},
     "output_type": "execute_result"
    }
   ],
   "source": [
    "testtest = df_3_filtered_series.groupby(['seriesIdentifier']).size().reset_index(name='counts')\n",
    "testtest[testtest['counts'] > 1]"
   ]
  },
  {
   "cell_type": "code",
   "execution_count": 21,
   "id": "0131a0f7",
   "metadata": {},
   "outputs": [
    {
     "data": {
      "text/html": [
       "<div>\n",
       "<style scoped>\n",
       "    .dataframe tbody tr th:only-of-type {\n",
       "        vertical-align: middle;\n",
       "    }\n",
       "\n",
       "    .dataframe tbody tr th {\n",
       "        vertical-align: top;\n",
       "    }\n",
       "\n",
       "    .dataframe thead th {\n",
       "        text-align: right;\n",
       "    }\n",
       "</style>\n",
       "<table border=\"1\" class=\"dataframe\">\n",
       "  <thead>\n",
       "    <tr style=\"text-align: right;\">\n",
       "      <th></th>\n",
       "      <th>Unnamed: 0</th>\n",
       "      <th>siteKey</th>\n",
       "      <th>researchGroup</th>\n",
       "      <th>subjectIdentifier</th>\n",
       "      <th>visitIdentifier</th>\n",
       "      <th>studyIdentifier</th>\n",
       "      <th>seriesIdentifier</th>\n",
       "      <th>subjectSex</th>\n",
       "      <th>subjectAge</th>\n",
       "      <th>ageQualifier</th>\n",
       "      <th>...</th>\n",
       "      <th>Acquisition.Plane</th>\n",
       "      <th>Matrix.X</th>\n",
       "      <th>Matrix.Y</th>\n",
       "      <th>Matrix.Z</th>\n",
       "      <th>Pixel.Spacing.X</th>\n",
       "      <th>Pixel.Spacing.Y</th>\n",
       "      <th>Manufacturer</th>\n",
       "      <th>Mfg.Model</th>\n",
       "      <th>Field.Strength</th>\n",
       "      <th>schwab</th>\n",
       "    </tr>\n",
       "  </thead>\n",
       "  <tbody>\n",
       "  </tbody>\n",
       "</table>\n",
       "<p>0 rows × 33 columns</p>\n",
       "</div>"
      ],
      "text/plain": [
       "Empty DataFrame\n",
       "Columns: [Unnamed: 0, siteKey, researchGroup, subjectIdentifier, visitIdentifier, studyIdentifier, seriesIdentifier, subjectSex, subjectAge, ageQualifier, weightKg, dateAcquired, imageUID, description, Acquisition.Type, Weighting, Pulse.Sequence, Slice.Thickness, TE, TR, TI, Coil, Flip.Angle, Acquisition.Plane, Matrix.X, Matrix.Y, Matrix.Z, Pixel.Spacing.X, Pixel.Spacing.Y, Manufacturer, Mfg.Model, Field.Strength, schwab]\n",
       "Index: []\n",
       "\n",
       "[0 rows x 33 columns]"
      ]
     },
     "execution_count": 21,
     "metadata": {},
     "output_type": "execute_result"
    }
   ],
   "source": [
    "df_3_filtered_series[df_3_filtered_series['seriesIdentifier'] == 1047640]"
   ]
  },
  {
   "cell_type": "code",
   "execution_count": 22,
   "id": "7255c99d",
   "metadata": {
    "scrolled": true
   },
   "outputs": [
    {
     "data": {
      "text/html": [
       "<div>\n",
       "<style scoped>\n",
       "    .dataframe tbody tr th:only-of-type {\n",
       "        vertical-align: middle;\n",
       "    }\n",
       "\n",
       "    .dataframe tbody tr th {\n",
       "        vertical-align: top;\n",
       "    }\n",
       "\n",
       "    .dataframe thead th {\n",
       "        text-align: right;\n",
       "    }\n",
       "</style>\n",
       "<table border=\"1\" class=\"dataframe\">\n",
       "  <thead>\n",
       "    <tr style=\"text-align: right;\">\n",
       "      <th></th>\n",
       "      <th>Unnamed: 0</th>\n",
       "      <th>siteKey</th>\n",
       "      <th>researchGroup</th>\n",
       "      <th>subjectIdentifier</th>\n",
       "      <th>visitIdentifier</th>\n",
       "      <th>studyIdentifier</th>\n",
       "      <th>seriesIdentifier</th>\n",
       "      <th>subjectSex</th>\n",
       "      <th>subjectAge</th>\n",
       "      <th>ageQualifier</th>\n",
       "      <th>...</th>\n",
       "      <th>Acquisition.Plane</th>\n",
       "      <th>Matrix.X</th>\n",
       "      <th>Matrix.Y</th>\n",
       "      <th>Matrix.Z</th>\n",
       "      <th>Pixel.Spacing.X</th>\n",
       "      <th>Pixel.Spacing.Y</th>\n",
       "      <th>Manufacturer</th>\n",
       "      <th>Mfg.Model</th>\n",
       "      <th>Field.Strength</th>\n",
       "      <th>schwab</th>\n",
       "    </tr>\n",
       "  </thead>\n",
       "  <tbody>\n",
       "    <tr>\n",
       "      <th>0</th>\n",
       "      <td>1</td>\n",
       "      <td>34</td>\n",
       "      <td>PD</td>\n",
       "      <td>100001</td>\n",
       "      <td>Baseline</td>\n",
       "      <td>168485</td>\n",
       "      <td>1047642</td>\n",
       "      <td>M</td>\n",
       "      <td>67.38</td>\n",
       "      <td>Y</td>\n",
       "      <td>...</td>\n",
       "      <td>SAGITTAL</td>\n",
       "      <td>256</td>\n",
       "      <td>256</td>\n",
       "      <td>192</td>\n",
       "      <td>1.0</td>\n",
       "      <td>1.0</td>\n",
       "      <td>SIEMENS</td>\n",
       "      <td>Verio</td>\n",
       "      <td>3.0</td>\n",
       "      <td>90</td>\n",
       "    </tr>\n",
       "    <tr>\n",
       "      <th>1</th>\n",
       "      <td>2</td>\n",
       "      <td>34</td>\n",
       "      <td>PD</td>\n",
       "      <td>100001</td>\n",
       "      <td>Baseline</td>\n",
       "      <td>168485</td>\n",
       "      <td>1047641</td>\n",
       "      <td>M</td>\n",
       "      <td>67.38</td>\n",
       "      <td>Y</td>\n",
       "      <td>...</td>\n",
       "      <td>SAGITTAL</td>\n",
       "      <td>256</td>\n",
       "      <td>256</td>\n",
       "      <td>192</td>\n",
       "      <td>1.0</td>\n",
       "      <td>1.0</td>\n",
       "      <td>SIEMENS</td>\n",
       "      <td>Verio</td>\n",
       "      <td>3.0</td>\n",
       "      <td>90</td>\n",
       "    </tr>\n",
       "    <tr>\n",
       "      <th>19</th>\n",
       "      <td>20</td>\n",
       "      <td>34</td>\n",
       "      <td>PD</td>\n",
       "      <td>100017</td>\n",
       "      <td>Baseline</td>\n",
       "      <td>168594</td>\n",
       "      <td>1047945</td>\n",
       "      <td>F</td>\n",
       "      <td>58.75</td>\n",
       "      <td>Y</td>\n",
       "      <td>...</td>\n",
       "      <td>SAGITTAL</td>\n",
       "      <td>256</td>\n",
       "      <td>256</td>\n",
       "      <td>192</td>\n",
       "      <td>1.0</td>\n",
       "      <td>1.0</td>\n",
       "      <td>SIEMENS</td>\n",
       "      <td>Verio</td>\n",
       "      <td>3.0</td>\n",
       "      <td>100</td>\n",
       "    </tr>\n",
       "    <tr>\n",
       "      <th>20</th>\n",
       "      <td>21</td>\n",
       "      <td>34</td>\n",
       "      <td>PD</td>\n",
       "      <td>100017</td>\n",
       "      <td>Baseline</td>\n",
       "      <td>168594</td>\n",
       "      <td>1047946</td>\n",
       "      <td>F</td>\n",
       "      <td>58.75</td>\n",
       "      <td>Y</td>\n",
       "      <td>...</td>\n",
       "      <td>SAGITTAL</td>\n",
       "      <td>256</td>\n",
       "      <td>256</td>\n",
       "      <td>192</td>\n",
       "      <td>1.0</td>\n",
       "      <td>1.0</td>\n",
       "      <td>SIEMENS</td>\n",
       "      <td>Verio</td>\n",
       "      <td>3.0</td>\n",
       "      <td>100</td>\n",
       "    </tr>\n",
       "    <tr>\n",
       "      <th>41</th>\n",
       "      <td>42</td>\n",
       "      <td>73</td>\n",
       "      <td>PD</td>\n",
       "      <td>100018</td>\n",
       "      <td>Baseline</td>\n",
       "      <td>172488</td>\n",
       "      <td>1067285</td>\n",
       "      <td>F</td>\n",
       "      <td>69.73</td>\n",
       "      <td>Y</td>\n",
       "      <td>...</td>\n",
       "      <td>SAGITTAL</td>\n",
       "      <td>256</td>\n",
       "      <td>256</td>\n",
       "      <td>192</td>\n",
       "      <td>1.0</td>\n",
       "      <td>1.0</td>\n",
       "      <td>SIEMENS</td>\n",
       "      <td>Skyra</td>\n",
       "      <td>3.0</td>\n",
       "      <td>95</td>\n",
       "    </tr>\n",
       "  </tbody>\n",
       "</table>\n",
       "<p>5 rows × 33 columns</p>\n",
       "</div>"
      ],
      "text/plain": [
       "    Unnamed: 0  siteKey researchGroup  subjectIdentifier visitIdentifier  \\\n",
       "0            1       34            PD             100001        Baseline   \n",
       "1            2       34            PD             100001        Baseline   \n",
       "19          20       34            PD             100017        Baseline   \n",
       "20          21       34            PD             100017        Baseline   \n",
       "41          42       73            PD             100018        Baseline   \n",
       "\n",
       "    studyIdentifier  seriesIdentifier subjectSex  subjectAge ageQualifier  \\\n",
       "0            168485           1047642          M       67.38            Y   \n",
       "1            168485           1047641          M       67.38            Y   \n",
       "19           168594           1047945          F       58.75            Y   \n",
       "20           168594           1047946          F       58.75            Y   \n",
       "41           172488           1067285          F       69.73            Y   \n",
       "\n",
       "    ...  Acquisition.Plane Matrix.X  Matrix.Y Matrix.Z Pixel.Spacing.X  \\\n",
       "0   ...           SAGITTAL      256       256      192             1.0   \n",
       "1   ...           SAGITTAL      256       256      192             1.0   \n",
       "19  ...           SAGITTAL      256       256      192             1.0   \n",
       "20  ...           SAGITTAL      256       256      192             1.0   \n",
       "41  ...           SAGITTAL      256       256      192             1.0   \n",
       "\n",
       "   Pixel.Spacing.Y Manufacturer  Mfg.Model  Field.Strength  schwab  \n",
       "0              1.0      SIEMENS      Verio             3.0      90  \n",
       "1              1.0      SIEMENS      Verio             3.0      90  \n",
       "19             1.0      SIEMENS      Verio             3.0     100  \n",
       "20             1.0      SIEMENS      Verio             3.0     100  \n",
       "41             1.0      SIEMENS      Skyra             3.0      95  \n",
       "\n",
       "[5 rows x 33 columns]"
      ]
     },
     "execution_count": 22,
     "metadata": {},
     "output_type": "execute_result"
    }
   ],
   "source": [
    "df_3_filtered_series.head()"
   ]
  },
  {
   "cell_type": "code",
   "execution_count": 23,
   "id": "10e08f82",
   "metadata": {},
   "outputs": [
    {
     "data": {
      "text/plain": [
       "Index(['siteKey', 'researchGroup', 'subjectIdentifier', 'visitIdentifier',\n",
       "       'studyIdentifier', 'seriesIdentifier', 'subjectSex', 'subjectAge',\n",
       "       'ageQualifier', 'weightKg', 'dateAcquired', 'imageUID', 'description',\n",
       "       'Acquisition Type', 'Weighting', 'Pulse Sequence', 'Slice Thickness',\n",
       "       'TE', 'TR', 'TI', 'Coil', 'Flip Angle', 'Acquisition Plane', 'Matrix X',\n",
       "       'Matrix Y', 'Matrix Z', 'Pixel Spacing X', 'Pixel Spacing Y',\n",
       "       'Manufacturer', 'Mfg Model', 'Field Strength', 'preprocessed_2_path',\n",
       "       'mode'],\n",
       "      dtype='object')"
      ]
     },
     "execution_count": 23,
     "metadata": {},
     "output_type": "execute_result"
    }
   ],
   "source": [
    "path_included_df.keys()"
   ]
  },
  {
   "cell_type": "code",
   "execution_count": 24,
   "id": "3eb43cda",
   "metadata": {},
   "outputs": [
    {
     "name": "stdout",
     "output_type": "stream",
     "text": [
      "1126 1126\n"
     ]
    }
   ],
   "source": [
    "print(len(path_included_df),len(df_3_filtered_series))"
   ]
  },
  {
   "cell_type": "code",
   "execution_count": 18,
   "id": "646c81a1",
   "metadata": {},
   "outputs": [
    {
     "data": {
      "text/plain": [
       "1126"
      ]
     },
     "execution_count": 18,
     "metadata": {},
     "output_type": "execute_result"
    }
   ],
   "source": [
    "merged_df = pd.merge(path_included_df, df_3_filtered_series, on=\"seriesIdentifier\")\n",
    "merged_df.head()\n",
    "len(merged_df)"
   ]
  },
  {
   "cell_type": "code",
   "execution_count": 28,
   "id": "9e5d756e",
   "metadata": {},
   "outputs": [],
   "source": [
    "merged_df.to_csv('T1_severity_score_info_csv.csv', index=False)"
   ]
  },
  {
   "cell_type": "code",
   "execution_count": 30,
   "id": "73d25849",
   "metadata": {},
   "outputs": [
    {
     "data": {
      "text/plain": [
       "Index(['siteKey_x', 'researchGroup_x', 'subjectIdentifier_x',\n",
       "       'visitIdentifier_x', 'studyIdentifier_x', 'seriesIdentifier',\n",
       "       'subjectSex_x', 'subjectAge_x', 'ageQualifier_x', 'weightKg_x',\n",
       "       'dateAcquired_x', 'imageUID_x', 'description_x', 'Acquisition Type',\n",
       "       'Weighting_x', 'Pulse Sequence', 'Slice Thickness', 'TE_x', 'TR_x',\n",
       "       'TI_x', 'Coil_x', 'Flip Angle', 'Acquisition Plane', 'Matrix X',\n",
       "       'Matrix Y', 'Matrix Z', 'Pixel Spacing X', 'Pixel Spacing Y',\n",
       "       'Manufacturer_x', 'Mfg Model', 'Field Strength', 'preprocessed_2_path',\n",
       "       'mode', 'Unnamed: 0', 'siteKey_y', 'researchGroup_y',\n",
       "       'subjectIdentifier_y', 'visitIdentifier_y', 'studyIdentifier_y',\n",
       "       'subjectSex_y', 'subjectAge_y', 'ageQualifier_y', 'weightKg_y',\n",
       "       'dateAcquired_y', 'imageUID_y', 'description_y', 'Acquisition.Type',\n",
       "       'Weighting_y', 'Pulse.Sequence', 'Slice.Thickness', 'TE_y', 'TR_y',\n",
       "       'TI_y', 'Coil_y', 'Flip.Angle', 'Acquisition.Plane', 'Matrix.X',\n",
       "       'Matrix.Y', 'Matrix.Z', 'Pixel.Spacing.X', 'Pixel.Spacing.Y',\n",
       "       'Manufacturer_y', 'Mfg.Model', 'Field.Strength', 'schwab'],\n",
       "      dtype='object')"
      ]
     },
     "execution_count": 30,
     "metadata": {},
     "output_type": "execute_result"
    }
   ],
   "source": [
    "merged_df.keys()"
   ]
  },
  {
   "cell_type": "code",
   "execution_count": 34,
   "id": "8445cc28",
   "metadata": {},
   "outputs": [],
   "source": [
    "score_distribution = merged_df.groupby(['schwab', 'mode']).size().reset_index(name='counts')"
   ]
  },
  {
   "cell_type": "code",
   "execution_count": 35,
   "id": "9cc81c59",
   "metadata": {},
   "outputs": [
    {
     "data": {
      "text/html": [
       "<div>\n",
       "<style scoped>\n",
       "    .dataframe tbody tr th:only-of-type {\n",
       "        vertical-align: middle;\n",
       "    }\n",
       "\n",
       "    .dataframe tbody tr th {\n",
       "        vertical-align: top;\n",
       "    }\n",
       "\n",
       "    .dataframe thead th {\n",
       "        text-align: right;\n",
       "    }\n",
       "</style>\n",
       "<table border=\"1\" class=\"dataframe\">\n",
       "  <thead>\n",
       "    <tr style=\"text-align: right;\">\n",
       "      <th></th>\n",
       "      <th>schwab</th>\n",
       "      <th>mode</th>\n",
       "      <th>counts</th>\n",
       "    </tr>\n",
       "  </thead>\n",
       "  <tbody>\n",
       "    <tr>\n",
       "      <th>0</th>\n",
       "      <td>50</td>\n",
       "      <td>train</td>\n",
       "      <td>2</td>\n",
       "    </tr>\n",
       "    <tr>\n",
       "      <th>1</th>\n",
       "      <td>60</td>\n",
       "      <td>train</td>\n",
       "      <td>3</td>\n",
       "    </tr>\n",
       "    <tr>\n",
       "      <th>2</th>\n",
       "      <td>60</td>\n",
       "      <td>val</td>\n",
       "      <td>1</td>\n",
       "    </tr>\n",
       "    <tr>\n",
       "      <th>3</th>\n",
       "      <td>65</td>\n",
       "      <td>val</td>\n",
       "      <td>1</td>\n",
       "    </tr>\n",
       "    <tr>\n",
       "      <th>4</th>\n",
       "      <td>70</td>\n",
       "      <td>test</td>\n",
       "      <td>2</td>\n",
       "    </tr>\n",
       "    <tr>\n",
       "      <th>5</th>\n",
       "      <td>70</td>\n",
       "      <td>train</td>\n",
       "      <td>13</td>\n",
       "    </tr>\n",
       "    <tr>\n",
       "      <th>6</th>\n",
       "      <td>70</td>\n",
       "      <td>val</td>\n",
       "      <td>6</td>\n",
       "    </tr>\n",
       "    <tr>\n",
       "      <th>7</th>\n",
       "      <td>75</td>\n",
       "      <td>test</td>\n",
       "      <td>1</td>\n",
       "    </tr>\n",
       "    <tr>\n",
       "      <th>8</th>\n",
       "      <td>75</td>\n",
       "      <td>train</td>\n",
       "      <td>3</td>\n",
       "    </tr>\n",
       "    <tr>\n",
       "      <th>9</th>\n",
       "      <td>75</td>\n",
       "      <td>val</td>\n",
       "      <td>1</td>\n",
       "    </tr>\n",
       "    <tr>\n",
       "      <th>10</th>\n",
       "      <td>80</td>\n",
       "      <td>test</td>\n",
       "      <td>8</td>\n",
       "    </tr>\n",
       "    <tr>\n",
       "      <th>11</th>\n",
       "      <td>80</td>\n",
       "      <td>train</td>\n",
       "      <td>91</td>\n",
       "    </tr>\n",
       "    <tr>\n",
       "      <th>12</th>\n",
       "      <td>80</td>\n",
       "      <td>val</td>\n",
       "      <td>23</td>\n",
       "    </tr>\n",
       "    <tr>\n",
       "      <th>13</th>\n",
       "      <td>85</td>\n",
       "      <td>test</td>\n",
       "      <td>7</td>\n",
       "    </tr>\n",
       "    <tr>\n",
       "      <th>14</th>\n",
       "      <td>85</td>\n",
       "      <td>train</td>\n",
       "      <td>23</td>\n",
       "    </tr>\n",
       "    <tr>\n",
       "      <th>15</th>\n",
       "      <td>85</td>\n",
       "      <td>val</td>\n",
       "      <td>5</td>\n",
       "    </tr>\n",
       "    <tr>\n",
       "      <th>16</th>\n",
       "      <td>90</td>\n",
       "      <td>test</td>\n",
       "      <td>54</td>\n",
       "    </tr>\n",
       "    <tr>\n",
       "      <th>17</th>\n",
       "      <td>90</td>\n",
       "      <td>train</td>\n",
       "      <td>361</td>\n",
       "    </tr>\n",
       "    <tr>\n",
       "      <th>18</th>\n",
       "      <td>90</td>\n",
       "      <td>val</td>\n",
       "      <td>104</td>\n",
       "    </tr>\n",
       "    <tr>\n",
       "      <th>19</th>\n",
       "      <td>95</td>\n",
       "      <td>test</td>\n",
       "      <td>11</td>\n",
       "    </tr>\n",
       "    <tr>\n",
       "      <th>20</th>\n",
       "      <td>95</td>\n",
       "      <td>train</td>\n",
       "      <td>92</td>\n",
       "    </tr>\n",
       "    <tr>\n",
       "      <th>21</th>\n",
       "      <td>95</td>\n",
       "      <td>val</td>\n",
       "      <td>30</td>\n",
       "    </tr>\n",
       "    <tr>\n",
       "      <th>22</th>\n",
       "      <td>100</td>\n",
       "      <td>test</td>\n",
       "      <td>30</td>\n",
       "    </tr>\n",
       "    <tr>\n",
       "      <th>23</th>\n",
       "      <td>100</td>\n",
       "      <td>train</td>\n",
       "      <td>198</td>\n",
       "    </tr>\n",
       "    <tr>\n",
       "      <th>24</th>\n",
       "      <td>100</td>\n",
       "      <td>val</td>\n",
       "      <td>56</td>\n",
       "    </tr>\n",
       "  </tbody>\n",
       "</table>\n",
       "</div>"
      ],
      "text/plain": [
       "    schwab   mode  counts\n",
       "0       50  train       2\n",
       "1       60  train       3\n",
       "2       60    val       1\n",
       "3       65    val       1\n",
       "4       70   test       2\n",
       "5       70  train      13\n",
       "6       70    val       6\n",
       "7       75   test       1\n",
       "8       75  train       3\n",
       "9       75    val       1\n",
       "10      80   test       8\n",
       "11      80  train      91\n",
       "12      80    val      23\n",
       "13      85   test       7\n",
       "14      85  train      23\n",
       "15      85    val       5\n",
       "16      90   test      54\n",
       "17      90  train     361\n",
       "18      90    val     104\n",
       "19      95   test      11\n",
       "20      95  train      92\n",
       "21      95    val      30\n",
       "22     100   test      30\n",
       "23     100  train     198\n",
       "24     100    val      56"
      ]
     },
     "execution_count": 35,
     "metadata": {},
     "output_type": "execute_result"
    }
   ],
   "source": [
    "score_distribution"
   ]
  },
  {
   "cell_type": "code",
   "execution_count": 37,
   "id": "232f5dfe",
   "metadata": {},
   "outputs": [
    {
     "data": {
      "text/plain": [
       "Index(['siteKey_x', 'researchGroup_x', 'subjectIdentifier_x',\n",
       "       'visitIdentifier_x', 'studyIdentifier_x', 'seriesIdentifier',\n",
       "       'subjectSex_x', 'subjectAge_x', 'ageQualifier_x', 'weightKg_x',\n",
       "       'dateAcquired_x', 'imageUID_x', 'description_x', 'Acquisition Type',\n",
       "       'Weighting_x', 'Pulse Sequence', 'Slice Thickness', 'TE_x', 'TR_x',\n",
       "       'TI_x', 'Coil_x', 'Flip Angle', 'Acquisition Plane', 'Matrix X',\n",
       "       'Matrix Y', 'Matrix Z', 'Pixel Spacing X', 'Pixel Spacing Y',\n",
       "       'Manufacturer_x', 'Mfg Model', 'Field Strength', 'preprocessed_2_path',\n",
       "       'mode', 'Unnamed: 0', 'siteKey_y', 'researchGroup_y',\n",
       "       'subjectIdentifier_y', 'visitIdentifier_y', 'studyIdentifier_y',\n",
       "       'subjectSex_y', 'subjectAge_y', 'ageQualifier_y', 'weightKg_y',\n",
       "       'dateAcquired_y', 'imageUID_y', 'description_y', 'Acquisition.Type',\n",
       "       'Weighting_y', 'Pulse.Sequence', 'Slice.Thickness', 'TE_y', 'TR_y',\n",
       "       'TI_y', 'Coil_y', 'Flip.Angle', 'Acquisition.Plane', 'Matrix.X',\n",
       "       'Matrix.Y', 'Matrix.Z', 'Pixel.Spacing.X', 'Pixel.Spacing.Y',\n",
       "       'Manufacturer_y', 'Mfg.Model', 'Field.Strength', 'schwab'],\n",
       "      dtype='object')"
      ]
     },
     "execution_count": 37,
     "metadata": {},
     "output_type": "execute_result"
    }
   ],
   "source": [
    "merged_df.keys()"
   ]
  },
  {
   "cell_type": "code",
   "execution_count": 80,
   "id": "9780898b",
   "metadata": {},
   "outputs": [
    {
     "data": {
      "text/plain": [
       "15"
      ]
     },
     "execution_count": 80,
     "metadata": {},
     "output_type": "execute_result"
    }
   ],
   "source": [
    "len(merged_df['TI_x'].unique())"
   ]
  },
  {
   "cell_type": "code",
   "execution_count": 42,
   "id": "d7c45e3d",
   "metadata": {},
   "outputs": [
    {
     "data": {
      "text/plain": [
       "1047"
      ]
     },
     "execution_count": 42,
     "metadata": {},
     "output_type": "execute_result"
    }
   ],
   "source": [
    "len(merged_df[merged_df['Weighting_x'] == 'T1'])"
   ]
  },
  {
   "cell_type": "code",
   "execution_count": null,
   "id": "4eeef307",
   "metadata": {},
   "outputs": [],
   "source": [
    "'Weighting_x', 'Pulse Sequence', 'TE_x', 'TR_x','TI_x', 'Manufacturer_x', 'Mfg Model', "
   ]
  },
  {
   "cell_type": "code",
   "execution_count": null,
   "id": "77bd2ad3",
   "metadata": {},
   "outputs": [],
   "source": [
    "weighting_mapping_dic = {'T1': [1, 0], 'T2':[0, 1]}\n",
    "pulse_sequence_mapping_dic = {\"SE/IR\": [1, 0, 0, 0, 0, 0], \n",
    "                              \"GR/GR/GR/GR/GR\": [0, 1, 0, 0, 0, 0], \n",
    "                              'IR/IR/IR/IR/IR': [0, 0, 1, 0, 0, 0],\n",
    "                              'GR/IR':[0, 0, 0, 1, 0, 0]\n",
    "                              'GR': [0, 0, 0, 0, 1, 0]\n",
    "                              'RM': [0, 0, 0, 0, 0, 1]\n",
    "                              nan: [0, 0, 0, 0, 0, 0]\n",
    "                             }\n"
   ]
  },
  {
   "cell_type": "code",
   "execution_count": 53,
   "id": "45e0c27c",
   "metadata": {},
   "outputs": [],
   "source": [
    "def create_mapping_label(data_list):\n",
    "    mapping_dic = {}\n",
    "    for i, item in enumerate(data_list):\n",
    "        mapping_dic[item] = i\n",
    "        \n",
    "    return mapping_dic    "
   ]
  },
  {
   "cell_type": "code",
   "execution_count": 74,
   "id": "ffc181a3",
   "metadata": {},
   "outputs": [
    {
     "data": {
      "text/plain": [
       "120"
      ]
     },
     "execution_count": 74,
     "metadata": {},
     "output_type": "execute_result"
    }
   ],
   "source": [
    "len(merged_df.groupby(['TE_x', 'TR_x','TI_x']).size().reset_index(name='counts'))"
   ]
  },
  {
   "cell_type": "code",
   "execution_count": 75,
   "id": "6fc82427",
   "metadata": {
    "scrolled": true
   },
   "outputs": [
    {
     "ename": "KeyError",
     "evalue": "'pulse_sequence'",
     "output_type": "error",
     "traceback": [
      "\u001b[0;31m---------------------------------------------------------------------------\u001b[0m",
      "\u001b[0;31mKeyError\u001b[0m                                  Traceback (most recent call last)",
      "\u001b[0;32m/h/99/fateme/mlenv/lib/python3.9/site-packages/pandas/core/indexes/base.py\u001b[0m in \u001b[0;36mget_loc\u001b[0;34m(self, key, method, tolerance)\u001b[0m\n\u001b[1;32m   3360\u001b[0m             \u001b[0;32mtry\u001b[0m\u001b[0;34m:\u001b[0m\u001b[0;34m\u001b[0m\u001b[0;34m\u001b[0m\u001b[0m\n\u001b[0;32m-> 3361\u001b[0;31m                 \u001b[0;32mreturn\u001b[0m \u001b[0mself\u001b[0m\u001b[0;34m.\u001b[0m\u001b[0m_engine\u001b[0m\u001b[0;34m.\u001b[0m\u001b[0mget_loc\u001b[0m\u001b[0;34m(\u001b[0m\u001b[0mcasted_key\u001b[0m\u001b[0;34m)\u001b[0m\u001b[0;34m\u001b[0m\u001b[0;34m\u001b[0m\u001b[0m\n\u001b[0m\u001b[1;32m   3362\u001b[0m             \u001b[0;32mexcept\u001b[0m \u001b[0mKeyError\u001b[0m \u001b[0;32mas\u001b[0m \u001b[0merr\u001b[0m\u001b[0;34m:\u001b[0m\u001b[0;34m\u001b[0m\u001b[0;34m\u001b[0m\u001b[0m\n",
      "\u001b[0;32m/h/99/fateme/mlenv/lib/python3.9/site-packages/pandas/_libs/index.pyx\u001b[0m in \u001b[0;36mpandas._libs.index.IndexEngine.get_loc\u001b[0;34m()\u001b[0m\n",
      "\u001b[0;32m/h/99/fateme/mlenv/lib/python3.9/site-packages/pandas/_libs/index.pyx\u001b[0m in \u001b[0;36mpandas._libs.index.IndexEngine.get_loc\u001b[0;34m()\u001b[0m\n",
      "\u001b[0;32mpandas/_libs/hashtable_class_helper.pxi\u001b[0m in \u001b[0;36mpandas._libs.hashtable.PyObjectHashTable.get_item\u001b[0;34m()\u001b[0m\n",
      "\u001b[0;32mpandas/_libs/hashtable_class_helper.pxi\u001b[0m in \u001b[0;36mpandas._libs.hashtable.PyObjectHashTable.get_item\u001b[0;34m()\u001b[0m\n",
      "\u001b[0;31mKeyError\u001b[0m: 'pulse_sequence'",
      "\nThe above exception was the direct cause of the following exception:\n",
      "\u001b[0;31mKeyError\u001b[0m                                  Traceback (most recent call last)",
      "\u001b[0;32m/tmp/ipykernel_77424/2494904704.py\u001b[0m in \u001b[0;36m<module>\u001b[0;34m\u001b[0m\n\u001b[0;32m----> 1\u001b[0;31m \u001b[0mlen\u001b[0m\u001b[0;34m(\u001b[0m\u001b[0mmerged_df\u001b[0m\u001b[0;34m[\u001b[0m\u001b[0;34m'pulse_sequence'\u001b[0m\u001b[0;34m]\u001b[0m\u001b[0;34m.\u001b[0m\u001b[0munique\u001b[0m\u001b[0;34m(\u001b[0m\u001b[0;34m)\u001b[0m\u001b[0;34m)\u001b[0m\u001b[0;34m\u001b[0m\u001b[0;34m\u001b[0m\u001b[0m\n\u001b[0m",
      "\u001b[0;32m/h/99/fateme/mlenv/lib/python3.9/site-packages/pandas/core/frame.py\u001b[0m in \u001b[0;36m__getitem__\u001b[0;34m(self, key)\u001b[0m\n\u001b[1;32m   3456\u001b[0m             \u001b[0;32mif\u001b[0m \u001b[0mself\u001b[0m\u001b[0;34m.\u001b[0m\u001b[0mcolumns\u001b[0m\u001b[0;34m.\u001b[0m\u001b[0mnlevels\u001b[0m \u001b[0;34m>\u001b[0m \u001b[0;36m1\u001b[0m\u001b[0;34m:\u001b[0m\u001b[0;34m\u001b[0m\u001b[0;34m\u001b[0m\u001b[0m\n\u001b[1;32m   3457\u001b[0m                 \u001b[0;32mreturn\u001b[0m \u001b[0mself\u001b[0m\u001b[0;34m.\u001b[0m\u001b[0m_getitem_multilevel\u001b[0m\u001b[0;34m(\u001b[0m\u001b[0mkey\u001b[0m\u001b[0;34m)\u001b[0m\u001b[0;34m\u001b[0m\u001b[0;34m\u001b[0m\u001b[0m\n\u001b[0;32m-> 3458\u001b[0;31m             \u001b[0mindexer\u001b[0m \u001b[0;34m=\u001b[0m \u001b[0mself\u001b[0m\u001b[0;34m.\u001b[0m\u001b[0mcolumns\u001b[0m\u001b[0;34m.\u001b[0m\u001b[0mget_loc\u001b[0m\u001b[0;34m(\u001b[0m\u001b[0mkey\u001b[0m\u001b[0;34m)\u001b[0m\u001b[0;34m\u001b[0m\u001b[0;34m\u001b[0m\u001b[0m\n\u001b[0m\u001b[1;32m   3459\u001b[0m             \u001b[0;32mif\u001b[0m \u001b[0mis_integer\u001b[0m\u001b[0;34m(\u001b[0m\u001b[0mindexer\u001b[0m\u001b[0;34m)\u001b[0m\u001b[0;34m:\u001b[0m\u001b[0;34m\u001b[0m\u001b[0;34m\u001b[0m\u001b[0m\n\u001b[1;32m   3460\u001b[0m                 \u001b[0mindexer\u001b[0m \u001b[0;34m=\u001b[0m \u001b[0;34m[\u001b[0m\u001b[0mindexer\u001b[0m\u001b[0;34m]\u001b[0m\u001b[0;34m\u001b[0m\u001b[0;34m\u001b[0m\u001b[0m\n",
      "\u001b[0;32m/h/99/fateme/mlenv/lib/python3.9/site-packages/pandas/core/indexes/base.py\u001b[0m in \u001b[0;36mget_loc\u001b[0;34m(self, key, method, tolerance)\u001b[0m\n\u001b[1;32m   3361\u001b[0m                 \u001b[0;32mreturn\u001b[0m \u001b[0mself\u001b[0m\u001b[0;34m.\u001b[0m\u001b[0m_engine\u001b[0m\u001b[0;34m.\u001b[0m\u001b[0mget_loc\u001b[0m\u001b[0;34m(\u001b[0m\u001b[0mcasted_key\u001b[0m\u001b[0;34m)\u001b[0m\u001b[0;34m\u001b[0m\u001b[0;34m\u001b[0m\u001b[0m\n\u001b[1;32m   3362\u001b[0m             \u001b[0;32mexcept\u001b[0m \u001b[0mKeyError\u001b[0m \u001b[0;32mas\u001b[0m \u001b[0merr\u001b[0m\u001b[0;34m:\u001b[0m\u001b[0;34m\u001b[0m\u001b[0;34m\u001b[0m\u001b[0m\n\u001b[0;32m-> 3363\u001b[0;31m                 \u001b[0;32mraise\u001b[0m \u001b[0mKeyError\u001b[0m\u001b[0;34m(\u001b[0m\u001b[0mkey\u001b[0m\u001b[0;34m)\u001b[0m \u001b[0;32mfrom\u001b[0m \u001b[0merr\u001b[0m\u001b[0;34m\u001b[0m\u001b[0;34m\u001b[0m\u001b[0m\n\u001b[0m\u001b[1;32m   3364\u001b[0m \u001b[0;34m\u001b[0m\u001b[0m\n\u001b[1;32m   3365\u001b[0m         \u001b[0;32mif\u001b[0m \u001b[0mis_scalar\u001b[0m\u001b[0;34m(\u001b[0m\u001b[0mkey\u001b[0m\u001b[0;34m)\u001b[0m \u001b[0;32mand\u001b[0m \u001b[0misna\u001b[0m\u001b[0;34m(\u001b[0m\u001b[0mkey\u001b[0m\u001b[0;34m)\u001b[0m \u001b[0;32mand\u001b[0m \u001b[0;32mnot\u001b[0m \u001b[0mself\u001b[0m\u001b[0;34m.\u001b[0m\u001b[0mhasnans\u001b[0m\u001b[0;34m:\u001b[0m\u001b[0;34m\u001b[0m\u001b[0;34m\u001b[0m\u001b[0m\n",
      "\u001b[0;31mKeyError\u001b[0m: 'pulse_sequence'"
     ]
    }
   ],
   "source": [
    "len(merged_df['pulse_sequence'].unique())"
   ]
  },
  {
   "cell_type": "code",
   "execution_count": 28,
   "id": "1c6a5aff",
   "metadata": {},
   "outputs": [
    {
     "data": {
      "text/html": [
       "<div>\n",
       "<style scoped>\n",
       "    .dataframe tbody tr th:only-of-type {\n",
       "        vertical-align: middle;\n",
       "    }\n",
       "\n",
       "    .dataframe tbody tr th {\n",
       "        vertical-align: top;\n",
       "    }\n",
       "\n",
       "    .dataframe thead th {\n",
       "        text-align: right;\n",
       "    }\n",
       "</style>\n",
       "<table border=\"1\" class=\"dataframe\">\n",
       "  <thead>\n",
       "    <tr style=\"text-align: right;\">\n",
       "      <th></th>\n",
       "      <th>siteKey_x</th>\n",
       "      <th>researchGroup_x</th>\n",
       "      <th>subjectIdentifier_x</th>\n",
       "      <th>visitIdentifier_x</th>\n",
       "      <th>studyIdentifier_x</th>\n",
       "      <th>seriesIdentifier</th>\n",
       "      <th>subjectSex_x</th>\n",
       "      <th>subjectAge_x</th>\n",
       "      <th>ageQualifier_x</th>\n",
       "      <th>weightKg_x</th>\n",
       "      <th>...</th>\n",
       "      <th>Acquisition.Plane</th>\n",
       "      <th>Matrix.X</th>\n",
       "      <th>Matrix.Y</th>\n",
       "      <th>Matrix.Z</th>\n",
       "      <th>Pixel.Spacing.X</th>\n",
       "      <th>Pixel.Spacing.Y</th>\n",
       "      <th>Manufacturer_y</th>\n",
       "      <th>Mfg.Model</th>\n",
       "      <th>Field.Strength</th>\n",
       "      <th>schwab</th>\n",
       "    </tr>\n",
       "  </thead>\n",
       "  <tbody>\n",
       "    <tr>\n",
       "      <th>0</th>\n",
       "      <td>34</td>\n",
       "      <td>PD</td>\n",
       "      <td>100001</td>\n",
       "      <td>Baseline</td>\n",
       "      <td>168485</td>\n",
       "      <td>1047642</td>\n",
       "      <td>M</td>\n",
       "      <td>67.38</td>\n",
       "      <td>Y</td>\n",
       "      <td>87.0</td>\n",
       "      <td>...</td>\n",
       "      <td>SAGITTAL</td>\n",
       "      <td>256</td>\n",
       "      <td>256</td>\n",
       "      <td>192</td>\n",
       "      <td>1.0</td>\n",
       "      <td>1.0</td>\n",
       "      <td>SIEMENS</td>\n",
       "      <td>Verio</td>\n",
       "      <td>3.0</td>\n",
       "      <td>90</td>\n",
       "    </tr>\n",
       "    <tr>\n",
       "      <th>1</th>\n",
       "      <td>34</td>\n",
       "      <td>PD</td>\n",
       "      <td>100001</td>\n",
       "      <td>Baseline</td>\n",
       "      <td>168485</td>\n",
       "      <td>1047641</td>\n",
       "      <td>M</td>\n",
       "      <td>67.38</td>\n",
       "      <td>Y</td>\n",
       "      <td>87.0</td>\n",
       "      <td>...</td>\n",
       "      <td>SAGITTAL</td>\n",
       "      <td>256</td>\n",
       "      <td>256</td>\n",
       "      <td>192</td>\n",
       "      <td>1.0</td>\n",
       "      <td>1.0</td>\n",
       "      <td>SIEMENS</td>\n",
       "      <td>Verio</td>\n",
       "      <td>3.0</td>\n",
       "      <td>90</td>\n",
       "    </tr>\n",
       "    <tr>\n",
       "      <th>2</th>\n",
       "      <td>34</td>\n",
       "      <td>PD</td>\n",
       "      <td>100017</td>\n",
       "      <td>Baseline</td>\n",
       "      <td>168594</td>\n",
       "      <td>1047945</td>\n",
       "      <td>F</td>\n",
       "      <td>58.75</td>\n",
       "      <td>Y</td>\n",
       "      <td>49.2</td>\n",
       "      <td>...</td>\n",
       "      <td>SAGITTAL</td>\n",
       "      <td>256</td>\n",
       "      <td>256</td>\n",
       "      <td>192</td>\n",
       "      <td>1.0</td>\n",
       "      <td>1.0</td>\n",
       "      <td>SIEMENS</td>\n",
       "      <td>Verio</td>\n",
       "      <td>3.0</td>\n",
       "      <td>100</td>\n",
       "    </tr>\n",
       "    <tr>\n",
       "      <th>3</th>\n",
       "      <td>34</td>\n",
       "      <td>PD</td>\n",
       "      <td>100017</td>\n",
       "      <td>Baseline</td>\n",
       "      <td>168594</td>\n",
       "      <td>1047946</td>\n",
       "      <td>F</td>\n",
       "      <td>58.75</td>\n",
       "      <td>Y</td>\n",
       "      <td>49.2</td>\n",
       "      <td>...</td>\n",
       "      <td>SAGITTAL</td>\n",
       "      <td>256</td>\n",
       "      <td>256</td>\n",
       "      <td>192</td>\n",
       "      <td>1.0</td>\n",
       "      <td>1.0</td>\n",
       "      <td>SIEMENS</td>\n",
       "      <td>Verio</td>\n",
       "      <td>3.0</td>\n",
       "      <td>100</td>\n",
       "    </tr>\n",
       "    <tr>\n",
       "      <th>4</th>\n",
       "      <td>73</td>\n",
       "      <td>PD</td>\n",
       "      <td>100018</td>\n",
       "      <td>Baseline</td>\n",
       "      <td>172488</td>\n",
       "      <td>1067285</td>\n",
       "      <td>F</td>\n",
       "      <td>69.73</td>\n",
       "      <td>Y</td>\n",
       "      <td>63.4</td>\n",
       "      <td>...</td>\n",
       "      <td>SAGITTAL</td>\n",
       "      <td>256</td>\n",
       "      <td>256</td>\n",
       "      <td>192</td>\n",
       "      <td>1.0</td>\n",
       "      <td>1.0</td>\n",
       "      <td>SIEMENS</td>\n",
       "      <td>Skyra</td>\n",
       "      <td>3.0</td>\n",
       "      <td>95</td>\n",
       "    </tr>\n",
       "    <tr>\n",
       "      <th>...</th>\n",
       "      <td>...</td>\n",
       "      <td>...</td>\n",
       "      <td>...</td>\n",
       "      <td>...</td>\n",
       "      <td>...</td>\n",
       "      <td>...</td>\n",
       "      <td>...</td>\n",
       "      <td>...</td>\n",
       "      <td>...</td>\n",
       "      <td>...</td>\n",
       "      <td>...</td>\n",
       "      <td>...</td>\n",
       "      <td>...</td>\n",
       "      <td>...</td>\n",
       "      <td>...</td>\n",
       "      <td>...</td>\n",
       "      <td>...</td>\n",
       "      <td>...</td>\n",
       "      <td>...</td>\n",
       "      <td>...</td>\n",
       "      <td>...</td>\n",
       "    </tr>\n",
       "    <tr>\n",
       "      <th>1114</th>\n",
       "      <td>34</td>\n",
       "      <td>PD</td>\n",
       "      <td>74067</td>\n",
       "      <td>Month 24</td>\n",
       "      <td>171895</td>\n",
       "      <td>1064442</td>\n",
       "      <td>F</td>\n",
       "      <td>72.01</td>\n",
       "      <td>Y</td>\n",
       "      <td>56.6</td>\n",
       "      <td>...</td>\n",
       "      <td>SAGITTAL</td>\n",
       "      <td>256</td>\n",
       "      <td>256</td>\n",
       "      <td>192</td>\n",
       "      <td>1.0</td>\n",
       "      <td>1.0</td>\n",
       "      <td>SIEMENS</td>\n",
       "      <td>Verio</td>\n",
       "      <td>3.0</td>\n",
       "      <td>90</td>\n",
       "    </tr>\n",
       "    <tr>\n",
       "      <th>1116</th>\n",
       "      <td>34</td>\n",
       "      <td>PD</td>\n",
       "      <td>75409</td>\n",
       "      <td>Month 24</td>\n",
       "      <td>171905</td>\n",
       "      <td>1064525</td>\n",
       "      <td>F</td>\n",
       "      <td>72.38</td>\n",
       "      <td>Y</td>\n",
       "      <td>47.4</td>\n",
       "      <td>...</td>\n",
       "      <td>SAGITTAL</td>\n",
       "      <td>256</td>\n",
       "      <td>256</td>\n",
       "      <td>192</td>\n",
       "      <td>1.0</td>\n",
       "      <td>1.0</td>\n",
       "      <td>SIEMENS</td>\n",
       "      <td>Verio</td>\n",
       "      <td>3.0</td>\n",
       "      <td>95</td>\n",
       "    </tr>\n",
       "    <tr>\n",
       "      <th>1117</th>\n",
       "      <td>34</td>\n",
       "      <td>PD</td>\n",
       "      <td>75409</td>\n",
       "      <td>Month 24</td>\n",
       "      <td>171905</td>\n",
       "      <td>1064524</td>\n",
       "      <td>F</td>\n",
       "      <td>72.38</td>\n",
       "      <td>Y</td>\n",
       "      <td>47.4</td>\n",
       "      <td>...</td>\n",
       "      <td>SAGITTAL</td>\n",
       "      <td>256</td>\n",
       "      <td>256</td>\n",
       "      <td>192</td>\n",
       "      <td>1.0</td>\n",
       "      <td>1.0</td>\n",
       "      <td>SIEMENS</td>\n",
       "      <td>Verio</td>\n",
       "      <td>3.0</td>\n",
       "      <td>95</td>\n",
       "    </tr>\n",
       "    <tr>\n",
       "      <th>1119</th>\n",
       "      <td>73</td>\n",
       "      <td>PD</td>\n",
       "      <td>75480</td>\n",
       "      <td>Month 24</td>\n",
       "      <td>172582</td>\n",
       "      <td>1067813</td>\n",
       "      <td>M</td>\n",
       "      <td>58.58</td>\n",
       "      <td>Y</td>\n",
       "      <td>99.2</td>\n",
       "      <td>...</td>\n",
       "      <td>SAGITTAL</td>\n",
       "      <td>256</td>\n",
       "      <td>256</td>\n",
       "      <td>192</td>\n",
       "      <td>1.0</td>\n",
       "      <td>1.0</td>\n",
       "      <td>SIEMENS</td>\n",
       "      <td>Skyra</td>\n",
       "      <td>3.0</td>\n",
       "      <td>90</td>\n",
       "    </tr>\n",
       "    <tr>\n",
       "      <th>1120</th>\n",
       "      <td>73</td>\n",
       "      <td>PD</td>\n",
       "      <td>75480</td>\n",
       "      <td>Month 24</td>\n",
       "      <td>172582</td>\n",
       "      <td>1067812</td>\n",
       "      <td>M</td>\n",
       "      <td>58.58</td>\n",
       "      <td>Y</td>\n",
       "      <td>99.2</td>\n",
       "      <td>...</td>\n",
       "      <td>SAGITTAL</td>\n",
       "      <td>256</td>\n",
       "      <td>256</td>\n",
       "      <td>192</td>\n",
       "      <td>1.0</td>\n",
       "      <td>1.0</td>\n",
       "      <td>SIEMENS</td>\n",
       "      <td>Skyra</td>\n",
       "      <td>3.0</td>\n",
       "      <td>90</td>\n",
       "    </tr>\n",
       "  </tbody>\n",
       "</table>\n",
       "<p>79 rows × 65 columns</p>\n",
       "</div>"
      ],
      "text/plain": [
       "      siteKey_x researchGroup_x  subjectIdentifier_x visitIdentifier_x  \\\n",
       "0            34              PD               100001          Baseline   \n",
       "1            34              PD               100001          Baseline   \n",
       "2            34              PD               100017          Baseline   \n",
       "3            34              PD               100017          Baseline   \n",
       "4            73              PD               100018          Baseline   \n",
       "...         ...             ...                  ...               ...   \n",
       "1114         34              PD                74067          Month 24   \n",
       "1116         34              PD                75409          Month 24   \n",
       "1117         34              PD                75409          Month 24   \n",
       "1119         73              PD                75480          Month 24   \n",
       "1120         73              PD                75480          Month 24   \n",
       "\n",
       "      studyIdentifier_x  seriesIdentifier subjectSex_x  subjectAge_x  \\\n",
       "0                168485           1047642            M         67.38   \n",
       "1                168485           1047641            M         67.38   \n",
       "2                168594           1047945            F         58.75   \n",
       "3                168594           1047946            F         58.75   \n",
       "4                172488           1067285            F         69.73   \n",
       "...                 ...               ...          ...           ...   \n",
       "1114             171895           1064442            F         72.01   \n",
       "1116             171905           1064525            F         72.38   \n",
       "1117             171905           1064524            F         72.38   \n",
       "1119             172582           1067813            M         58.58   \n",
       "1120             172582           1067812            M         58.58   \n",
       "\n",
       "     ageQualifier_x  weightKg_x  ... Acquisition.Plane  Matrix.X Matrix.Y  \\\n",
       "0                 Y        87.0  ...          SAGITTAL       256      256   \n",
       "1                 Y        87.0  ...          SAGITTAL       256      256   \n",
       "2                 Y        49.2  ...          SAGITTAL       256      256   \n",
       "3                 Y        49.2  ...          SAGITTAL       256      256   \n",
       "4                 Y        63.4  ...          SAGITTAL       256      256   \n",
       "...             ...         ...  ...               ...       ...      ...   \n",
       "1114              Y        56.6  ...          SAGITTAL       256      256   \n",
       "1116              Y        47.4  ...          SAGITTAL       256      256   \n",
       "1117              Y        47.4  ...          SAGITTAL       256      256   \n",
       "1119              Y        99.2  ...          SAGITTAL       256      256   \n",
       "1120              Y        99.2  ...          SAGITTAL       256      256   \n",
       "\n",
       "     Matrix.Z Pixel.Spacing.X Pixel.Spacing.Y  Manufacturer_y  Mfg.Model  \\\n",
       "0         192             1.0             1.0         SIEMENS      Verio   \n",
       "1         192             1.0             1.0         SIEMENS      Verio   \n",
       "2         192             1.0             1.0         SIEMENS      Verio   \n",
       "3         192             1.0             1.0         SIEMENS      Verio   \n",
       "4         192             1.0             1.0         SIEMENS      Skyra   \n",
       "...       ...             ...             ...             ...        ...   \n",
       "1114      192             1.0             1.0         SIEMENS      Verio   \n",
       "1116      192             1.0             1.0         SIEMENS      Verio   \n",
       "1117      192             1.0             1.0         SIEMENS      Verio   \n",
       "1119      192             1.0             1.0         SIEMENS      Skyra   \n",
       "1120      192             1.0             1.0         SIEMENS      Skyra   \n",
       "\n",
       "      Field.Strength  schwab  \n",
       "0                3.0      90  \n",
       "1                3.0      90  \n",
       "2                3.0     100  \n",
       "3                3.0     100  \n",
       "4                3.0      95  \n",
       "...              ...     ...  \n",
       "1114             3.0      90  \n",
       "1116             3.0      95  \n",
       "1117             3.0      95  \n",
       "1119             3.0      90  \n",
       "1120             3.0      90  \n",
       "\n",
       "[79 rows x 65 columns]"
      ]
     },
     "execution_count": 28,
     "metadata": {},
     "output_type": "execute_result"
    }
   ],
   "source": [
    "merged_df[merged_df['Weighting_x'] == 'T2']"
   ]
  },
  {
   "cell_type": "code",
   "execution_count": 62,
   "id": "38bf22f0",
   "metadata": {},
   "outputs": [
    {
     "data": {
      "text/plain": [
       "{'SE/IR': 0,\n",
       " 'GR/GR/GR/GR/GR': 1,\n",
       " 'IR/IR/IR/IR/IR': 2,\n",
       " 'GR/IR': 3,\n",
       " 'GR': 4,\n",
       " 'RM': 5,\n",
       " nan: 6}"
      ]
     },
     "execution_count": 62,
     "metadata": {},
     "output_type": "execute_result"
    }
   ],
   "source": [
    "test"
   ]
  },
  {
   "cell_type": "code",
   "execution_count": 56,
   "id": "16612a05",
   "metadata": {},
   "outputs": [],
   "source": [
    "def create_one_hot_label(mapping_dic):\n",
    "    mapping_oneHot_dic = {}\n",
    "    k = len(mapping_dic)\n",
    "    \n",
    "    for item in mapping_dic:\n",
    "        tmp = [0] * k \n",
    "        tmp[mapping_dic[item]] = 1\n",
    "        mapping_oneHot_dic[item] = tmp\n",
    "        \n",
    "    return mapping_oneHot_dic"
   ]
  },
  {
   "cell_type": "code",
   "execution_count": 63,
   "id": "36883111",
   "metadata": {},
   "outputs": [
    {
     "data": {
      "text/plain": [
       "{'SE/IR': [1, 0, 0, 0, 0, 0, 0],\n",
       " 'GR/GR/GR/GR/GR': [0, 1, 0, 0, 0, 0, 0],\n",
       " 'IR/IR/IR/IR/IR': [0, 0, 1, 0, 0, 0, 0],\n",
       " 'GR/IR': [0, 0, 0, 1, 0, 0, 0],\n",
       " 'GR': [0, 0, 0, 0, 1, 0, 0],\n",
       " 'RM': [0, 0, 0, 0, 0, 1, 0],\n",
       " nan: [0, 0, 0, 0, 0, 0, 1]}"
      ]
     },
     "execution_count": 63,
     "metadata": {},
     "output_type": "execute_result"
    }
   ],
   "source": [
    "create_one_hot_label(test)"
   ]
  },
  {
   "cell_type": "code",
   "execution_count": 55,
   "id": "05f3844d",
   "metadata": {},
   "outputs": [
    {
     "data": {
      "text/plain": [
       "[0, 0, 0, 0, 0, 0, 0, 0, 0, 0]"
      ]
     },
     "execution_count": 55,
     "metadata": {},
     "output_type": "execute_result"
    }
   ],
   "source": [
    "k = 10\n",
    "a = [0] * k\n",
    "a"
   ]
  },
  {
   "cell_type": "code",
   "execution_count": null,
   "id": "b40e8295",
   "metadata": {},
   "outputs": [],
   "source": []
  }
 ],
 "metadata": {
  "kernelspec": {
   "display_name": "Python 3 (ipykernel)",
   "language": "python",
   "name": "python3"
  },
  "language_info": {
   "codemirror_mode": {
    "name": "ipython",
    "version": 3
   },
   "file_extension": ".py",
   "mimetype": "text/x-python",
   "name": "python",
   "nbconvert_exporter": "python",
   "pygments_lexer": "ipython3",
   "version": "3.9.5"
  }
 },
 "nbformat": 4,
 "nbformat_minor": 5
}
