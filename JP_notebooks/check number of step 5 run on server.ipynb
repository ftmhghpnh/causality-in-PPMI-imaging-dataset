{
 "cells": [
  {
   "cell_type": "code",
   "execution_count": 29,
   "id": "527340a3",
   "metadata": {},
   "outputs": [],
   "source": [
    "import os"
   ]
  },
  {
   "cell_type": "code",
   "execution_count": 27,
   "id": "77e30721",
   "metadata": {
    "scrolled": true
   },
   "outputs": [
    {
     "name": "stdout",
     "output_type": "stream",
     "text": [
      "102090\n",
      "c4PPMI_3056_MR_SAG_3D_T1__br_raw_20110322090704585_51_S102090_I224526_ROBEX.nii\n",
      "c5PPMI_3056_MR_SAG_3D_T1__br_raw_20110322090704585_51_S102090_I224526_ROBEX.nii\n",
      "PPMI_3056_MR_SAG_3D_T1__br_raw_20110322090704585_51_S102090_I224526_ROBEX_seg8.mat\n",
      "c2PPMI_3056_MR_SAG_3D_T1__br_raw_20110322090704585_51_S102090_I224526_ROBEX.nii\n",
      "c3PPMI_3056_MR_SAG_3D_T1__br_raw_20110322090704585_51_S102090_I224526_ROBEX.nii\n",
      "c1PPMI_3056_MR_SAG_3D_T1__br_raw_20110322090704585_51_S102090_I224526_ROBEX.nii\n",
      "y_PPMI_3056_MR_SAG_3D_T1__br_raw_20110322090704585_51_S102090_I224526_ROBEX.nii\n",
      "PPMI_3056_MR_SAG_3D_T1__br_raw_20110322090704585_51_S102090_I224526_ROBEX.nii\n",
      "1000907\n",
      "c3PPMI_41749_MR_MPRAGE_GRAPPA__br_raw_20210222135759364_92_S1000907_I1412647_ROBEX.nii\n",
      "c4PPMI_41749_MR_MPRAGE_GRAPPA__br_raw_20210222135759364_92_S1000907_I1412647_ROBEX.nii\n",
      "c5PPMI_41749_MR_MPRAGE_GRAPPA__br_raw_20210222135759364_92_S1000907_I1412647_ROBEX.nii\n",
      "c2PPMI_41749_MR_MPRAGE_GRAPPA__br_raw_20210222135759364_92_S1000907_I1412647_ROBEX.nii\n",
      "y_PPMI_41749_MR_MPRAGE_GRAPPA__br_raw_20210222135759364_92_S1000907_I1412647_ROBEX.nii\n",
      "PPMI_41749_MR_MPRAGE_GRAPPA__br_raw_20210222135759364_92_S1000907_I1412647_ROBEX_seg8.mat\n",
      "c1PPMI_41749_MR_MPRAGE_GRAPPA__br_raw_20210222135759364_92_S1000907_I1412647_ROBEX.nii\n",
      "PPMI_41749_MR_MPRAGE_GRAPPA__br_raw_20210222135759364_92_S1000907_I1412647_ROBEX.nii\n",
      "101544\n",
      "PPMI_3052_MR_SAG_3D_T1__br_raw_20110314144145885_132_S101544_I223769_ROBEX_seg8.mat\n",
      "c5PPMI_3052_MR_SAG_3D_T1__br_raw_20110314144145885_132_S101544_I223769_ROBEX.nii\n",
      "c4PPMI_3052_MR_SAG_3D_T1__br_raw_20110314144145885_132_S101544_I223769_ROBEX.nii\n",
      "y_PPMI_3052_MR_SAG_3D_T1__br_raw_20110314144145885_132_S101544_I223769_ROBEX.nii\n",
      "PPMI_3052_MR_SAG_3D_T1__br_raw_20110314144145885_132_S101544_I223769_ROBEX.nii\n",
      "c2PPMI_3052_MR_SAG_3D_T1__br_raw_20110314144145885_132_S101544_I223769_ROBEX.nii\n",
      "c3PPMI_3052_MR_SAG_3D_T1__br_raw_20110314144145885_132_S101544_I223769_ROBEX.nii\n",
      "c1PPMI_3052_MR_SAG_3D_T1__br_raw_20110314144145885_132_S101544_I223769_ROBEX.nii\n",
      "102128\n",
      "c5PPMI_3001_MR_sag_3D_FSPGR_BRAVO_straight__br_raw_20110322144145073_139_S102128_I224574_ROBEX.nii\n",
      "c3PPMI_3001_MR_sag_3D_FSPGR_BRAVO_straight__br_raw_20110322144145073_139_S102128_I224574_ROBEX.nii\n",
      "PPMI_3001_MR_sag_3D_FSPGR_BRAVO_straight__br_raw_20110322144145073_139_S102128_I224574_ROBEX.nii\n",
      "c1PPMI_3001_MR_sag_3D_FSPGR_BRAVO_straight__br_raw_20110322144145073_139_S102128_I224574_ROBEX.nii\n",
      "c2PPMI_3001_MR_sag_3D_FSPGR_BRAVO_straight__br_raw_20110322144145073_139_S102128_I224574_ROBEX.nii\n",
      "y_PPMI_3001_MR_sag_3D_FSPGR_BRAVO_straight__br_raw_20110322144145073_139_S102128_I224574_ROBEX.nii\n",
      "PPMI_3001_MR_sag_3D_FSPGR_BRAVO_straight__br_raw_20110322144145073_139_S102128_I224574_ROBEX_seg8.mat\n",
      "c4PPMI_3001_MR_sag_3D_FSPGR_BRAVO_straight__br_raw_20110322144145073_139_S102128_I224574_ROBEX.nii\n",
      "101964\n",
      "c1PPMI_3251_MR_SAG_FSPGR_3D_br_raw_20110318150643786_119_S101964_I224316_ROBEX.nii\n",
      "y_PPMI_3251_MR_SAG_FSPGR_3D_br_raw_20110318150643786_119_S101964_I224316_ROBEX.nii\n",
      "c2PPMI_3251_MR_SAG_FSPGR_3D_br_raw_20110318150643786_119_S101964_I224316_ROBEX.nii\n",
      "PPMI_3251_MR_SAG_FSPGR_3D_br_raw_20110318150643786_119_S101964_I224316_ROBEX.nii\n",
      "c3PPMI_3251_MR_SAG_FSPGR_3D_br_raw_20110318150643786_119_S101964_I224316_ROBEX.nii\n",
      "PPMI_3251_MR_SAG_FSPGR_3D_br_raw_20110318150643786_119_S101964_I224316_ROBEX_seg8.mat\n",
      "c5PPMI_3251_MR_SAG_FSPGR_3D_br_raw_20110318150643786_119_S101964_I224316_ROBEX.nii\n",
      "c4PPMI_3251_MR_SAG_FSPGR_3D_br_raw_20110318150643786_119_S101964_I224316_ROBEX.nii\n",
      "101887\n",
      "PPMI_3451_MR_3D_SAG_br_raw_20110318135220287_15_S101887_I224211_ROBEX.nii\n",
      "c1PPMI_3451_MR_3D_SAG_br_raw_20110318135220287_15_S101887_I224211_ROBEX.nii\n",
      "c2PPMI_3451_MR_3D_SAG_br_raw_20110318135220287_15_S101887_I224211_ROBEX.nii\n",
      "PPMI_3451_MR_3D_SAG_br_raw_20110318135220287_15_S101887_I224211_ROBEX_seg8.mat\n",
      "c4PPMI_3451_MR_3D_SAG_br_raw_20110318135220287_15_S101887_I224211_ROBEX.nii\n",
      "y_PPMI_3451_MR_3D_SAG_br_raw_20110318135220287_15_S101887_I224211_ROBEX.nii\n",
      "c3PPMI_3451_MR_3D_SAG_br_raw_20110318135220287_15_S101887_I224211_ROBEX.nii\n",
      "c5PPMI_3451_MR_3D_SAG_br_raw_20110318135220287_15_S101887_I224211_ROBEX.nii\n",
      "1007967\n",
      "y_PPMI_3869_MR_MPRAGE_GRAPPA__br_raw_20210318133629522_73_S1007967_I1422451_ROBEX.nii\n",
      "c1PPMI_3869_MR_MPRAGE_GRAPPA__br_raw_20210318133629522_73_S1007967_I1422451_ROBEX.nii\n",
      "c3PPMI_3869_MR_MPRAGE_GRAPPA__br_raw_20210318133629522_73_S1007967_I1422451_ROBEX.nii\n",
      "c2PPMI_3869_MR_MPRAGE_GRAPPA__br_raw_20210318133629522_73_S1007967_I1422451_ROBEX.nii\n",
      "c4PPMI_3869_MR_MPRAGE_GRAPPA__br_raw_20210318133629522_73_S1007967_I1422451_ROBEX.nii\n",
      "c5PPMI_3869_MR_MPRAGE_GRAPPA__br_raw_20210318133629522_73_S1007967_I1422451_ROBEX.nii\n",
      "PPMI_3869_MR_MPRAGE_GRAPPA__br_raw_20210318133629522_73_S1007967_I1422451_ROBEX.nii\n",
      "PPMI_3869_MR_MPRAGE_GRAPPA__br_raw_20210318133629522_73_S1007967_I1422451_ROBEX_seg8.mat\n",
      "101977\n",
      "c1PPMI_3454_MR_3D_SAG_br_raw_20110318160245917_49_S101977_I224333_ROBEX.nii\n",
      "c2PPMI_3454_MR_3D_SAG_br_raw_20110318160245917_49_S101977_I224333_ROBEX.nii\n",
      "PPMI_3454_MR_3D_SAG_br_raw_20110318160245917_49_S101977_I224333_ROBEX.nii\n",
      "c4PPMI_3454_MR_3D_SAG_br_raw_20110318160245917_49_S101977_I224333_ROBEX.nii\n",
      "PPMI_3454_MR_3D_SAG_br_raw_20110318160245917_49_S101977_I224333_ROBEX_seg8.mat\n",
      "c3PPMI_3454_MR_3D_SAG_br_raw_20110318160245917_49_S101977_I224333_ROBEX.nii\n",
      "y_PPMI_3454_MR_3D_SAG_br_raw_20110318160245917_49_S101977_I224333_ROBEX.nii\n",
      "c5PPMI_3454_MR_3D_SAG_br_raw_20110318160245917_49_S101977_I224333_ROBEX.nii\n",
      "1001087\n",
      "PPMI_4019_MR_MPRAGE_GRAPPA__br_raw_20210223134701638_155_S1001087_I1412917_ROBEX.nii\n",
      "y_PPMI_4019_MR_MPRAGE_GRAPPA__br_raw_20210223134701638_155_S1001087_I1412917_ROBEX.nii\n",
      "c1PPMI_4019_MR_MPRAGE_GRAPPA__br_raw_20210223134701638_155_S1001087_I1412917_ROBEX.nii\n",
      "c5PPMI_4019_MR_MPRAGE_GRAPPA__br_raw_20210223134701638_155_S1001087_I1412917_ROBEX.nii\n",
      "c2PPMI_4019_MR_MPRAGE_GRAPPA__br_raw_20210223134701638_155_S1001087_I1412917_ROBEX.nii\n",
      "c3PPMI_4019_MR_MPRAGE_GRAPPA__br_raw_20210223134701638_155_S1001087_I1412917_ROBEX.nii\n",
      "c4PPMI_4019_MR_MPRAGE_GRAPPA__br_raw_20210223134701638_155_S1001087_I1412917_ROBEX.nii\n",
      "PPMI_4019_MR_MPRAGE_GRAPPA__br_raw_20210223134701638_155_S1001087_I1412917_ROBEX_seg8.mat\n",
      "101979\n",
      "y_PPMI_3500_MR_MPRAGEadni_br_raw_20110318161146529_63_S101979_I224339_ROBEX.nii\n",
      "c1PPMI_3500_MR_MPRAGEadni_br_raw_20110318161146529_63_S101979_I224339_ROBEX.nii\n",
      "PPMI_3500_MR_MPRAGEadni_br_raw_20110318161146529_63_S101979_I224339_ROBEX.nii\n",
      "c3PPMI_3500_MR_MPRAGEadni_br_raw_20110318161146529_63_S101979_I224339_ROBEX.nii\n",
      "c2PPMI_3500_MR_MPRAGEadni_br_raw_20110318161146529_63_S101979_I224339_ROBEX.nii\n",
      "PPMI_3500_MR_MPRAGEadni_br_raw_20110318161146529_63_S101979_I224339_ROBEX_seg8.mat\n",
      "c5PPMI_3500_MR_MPRAGEadni_br_raw_20110318161146529_63_S101979_I224339_ROBEX.nii\n",
      "c4PPMI_3500_MR_MPRAGEadni_br_raw_20110318161146529_63_S101979_I224339_ROBEX.nii\n",
      "101973\n",
      "c5PPMI_3254_MR_SAG_FSPGR_3D_br_raw_20110318154741551_216_S101973_I224328_ROBEX.nii\n",
      "c4PPMI_3254_MR_SAG_FSPGR_3D_br_raw_20110318154741551_216_S101973_I224328_ROBEX.nii\n",
      "PPMI_3254_MR_SAG_FSPGR_3D_br_raw_20110318154741551_216_S101973_I224328_ROBEX.nii\n",
      "c1PPMI_3254_MR_SAG_FSPGR_3D_br_raw_20110318154741551_216_S101973_I224328_ROBEX.nii\n",
      "y_PPMI_3254_MR_SAG_FSPGR_3D_br_raw_20110318154741551_216_S101973_I224328_ROBEX.nii\n",
      "c2PPMI_3254_MR_SAG_FSPGR_3D_br_raw_20110318154741551_216_S101973_I224328_ROBEX.nii\n",
      "PPMI_3254_MR_SAG_FSPGR_3D_br_raw_20110318154741551_216_S101973_I224328_ROBEX_seg8.mat\n",
      "c3PPMI_3254_MR_SAG_FSPGR_3D_br_raw_20110318154741551_216_S101973_I224328_ROBEX.nii\n",
      "1001026\n",
      "PPMI_74817_MR_MPRAGE_GRAPPA__br_raw_20210223110612369_149_S1001026_I1412792_ROBEX_seg8.mat\n",
      "c5PPMI_74817_MR_MPRAGE_GRAPPA__br_raw_20210223110612369_149_S1001026_I1412792_ROBEX.nii\n",
      "c4PPMI_74817_MR_MPRAGE_GRAPPA__br_raw_20210223110612369_149_S1001026_I1412792_ROBEX.nii\n",
      "y_PPMI_74817_MR_MPRAGE_GRAPPA__br_raw_20210223110612369_149_S1001026_I1412792_ROBEX.nii\n",
      "c1PPMI_74817_MR_MPRAGE_GRAPPA__br_raw_20210223110612369_149_S1001026_I1412792_ROBEX.nii\n",
      "c3PPMI_74817_MR_MPRAGE_GRAPPA__br_raw_20210223110612369_149_S1001026_I1412792_ROBEX.nii\n",
      "c2PPMI_74817_MR_MPRAGE_GRAPPA__br_raw_20210223110612369_149_S1001026_I1412792_ROBEX.nii\n",
      "PPMI_74817_MR_MPRAGE_GRAPPA__br_raw_20210223110612369_149_S1001026_I1412792_ROBEX.nii\n",
      "101561\n",
      "c5PPMI_3501_MR_MPRAGEadni_br_raw_20110314151412834_121_S101561_I223790_ROBEX.nii\n",
      "PPMI_3501_MR_MPRAGEadni_br_raw_20110314151412834_121_S101561_I223790_ROBEX_seg8.mat\n",
      "c4PPMI_3501_MR_MPRAGEadni_br_raw_20110314151412834_121_S101561_I223790_ROBEX.nii\n",
      "c1PPMI_3501_MR_MPRAGEadni_br_raw_20110314151412834_121_S101561_I223790_ROBEX.nii\n",
      "y_PPMI_3501_MR_MPRAGEadni_br_raw_20110314151412834_121_S101561_I223790_ROBEX.nii\n",
      "c2PPMI_3501_MR_MPRAGEadni_br_raw_20110314151412834_121_S101561_I223790_ROBEX.nii\n",
      "PPMI_3501_MR_MPRAGEadni_br_raw_20110314151412834_121_S101561_I223790_ROBEX.nii\n",
      "c3PPMI_3501_MR_MPRAGEadni_br_raw_20110314151412834_121_S101561_I223790_ROBEX.nii\n",
      "101542\n",
      "c5PPMI_3051_MR_SAG_3D_T1__br_raw_20110314143207585_44_S101542_I223766_ROBEX.nii\n",
      "c4PPMI_3051_MR_SAG_3D_T1__br_raw_20110314143207585_44_S101542_I223766_ROBEX.nii\n",
      "PPMI_3051_MR_SAG_3D_T1__br_raw_20110314143207585_44_S101542_I223766_ROBEX.nii\n",
      "c3PPMI_3051_MR_SAG_3D_T1__br_raw_20110314143207585_44_S101542_I223766_ROBEX.nii\n",
      "c2PPMI_3051_MR_SAG_3D_T1__br_raw_20110314143207585_44_S101542_I223766_ROBEX.nii\n",
      "y_PPMI_3051_MR_SAG_3D_T1__br_raw_20110314143207585_44_S101542_I223766_ROBEX.nii\n",
      "PPMI_3051_MR_SAG_3D_T1__br_raw_20110314143207585_44_S101542_I223766_ROBEX_seg8.mat\n",
      "c1PPMI_3051_MR_SAG_3D_T1__br_raw_20110314143207585_44_S101542_I223766_ROBEX.nii\n",
      "101968\n",
      "c4PPMI_3252_MR_SAG_FSPGR_3D_br_raw_20110318152106979_46_S101968_I224322_ROBEX.nii\n",
      "c5PPMI_3252_MR_SAG_FSPGR_3D_br_raw_20110318152106979_46_S101968_I224322_ROBEX.nii\n",
      "PPMI_3252_MR_SAG_FSPGR_3D_br_raw_20110318152106979_46_S101968_I224322_ROBEX.nii\n",
      "PPMI_3252_MR_SAG_FSPGR_3D_br_raw_20110318152106979_46_S101968_I224322_ROBEX_seg8.mat\n",
      "y_PPMI_3252_MR_SAG_FSPGR_3D_br_raw_20110318152106979_46_S101968_I224322_ROBEX.nii\n",
      "c1PPMI_3252_MR_SAG_FSPGR_3D_br_raw_20110318152106979_46_S101968_I224322_ROBEX.nii\n",
      "c3PPMI_3252_MR_SAG_FSPGR_3D_br_raw_20110318152106979_46_S101968_I224322_ROBEX.nii\n",
      "c2PPMI_3252_MR_SAG_FSPGR_3D_br_raw_20110318152106979_46_S101968_I224322_ROBEX.nii\n",
      "1007830\n",
      "y_PPMI_3866_MR_MPRAGE_GRAPPA__br_raw_20210318120859750_1_S1007830_I1422212_ROBEX.nii\n",
      "c5PPMI_3866_MR_MPRAGE_GRAPPA__br_raw_20210318120859750_1_S1007830_I1422212_ROBEX.nii\n",
      "c2PPMI_3866_MR_MPRAGE_GRAPPA__br_raw_20210318120859750_1_S1007830_I1422212_ROBEX.nii\n",
      "c1PPMI_3866_MR_MPRAGE_GRAPPA__br_raw_20210318120859750_1_S1007830_I1422212_ROBEX.nii\n",
      "c3PPMI_3866_MR_MPRAGE_GRAPPA__br_raw_20210318120859750_1_S1007830_I1422212_ROBEX.nii\n",
      "c4PPMI_3866_MR_MPRAGE_GRAPPA__br_raw_20210318120859750_1_S1007830_I1422212_ROBEX.nii\n",
      "PPMI_3866_MR_MPRAGE_GRAPPA__br_raw_20210318120859750_1_S1007830_I1422212_ROBEX.nii\n",
      "PPMI_3866_MR_MPRAGE_GRAPPA__br_raw_20210318120859750_1_S1007830_I1422212_ROBEX_seg8.mat\n",
      "1007834\n",
      "PPMI_3869_MR_MPRAGE_GRAPPA__br_raw_20210318121019003_17_S1007834_I1422216_ROBEX.nii\n",
      "y_PPMI_3869_MR_MPRAGE_GRAPPA__br_raw_20210318121019003_17_S1007834_I1422216_ROBEX.nii\n",
      "c4PPMI_3869_MR_MPRAGE_GRAPPA__br_raw_20210318121019003_17_S1007834_I1422216_ROBEX.nii\n",
      "c5PPMI_3869_MR_MPRAGE_GRAPPA__br_raw_20210318121019003_17_S1007834_I1422216_ROBEX.nii\n",
      "c1PPMI_3869_MR_MPRAGE_GRAPPA__br_raw_20210318121019003_17_S1007834_I1422216_ROBEX.nii\n",
      "c3PPMI_3869_MR_MPRAGE_GRAPPA__br_raw_20210318121019003_17_S1007834_I1422216_ROBEX.nii\n",
      "c2PPMI_3869_MR_MPRAGE_GRAPPA__br_raw_20210318121019003_17_S1007834_I1422216_ROBEX.nii\n",
      "PPMI_3869_MR_MPRAGE_GRAPPA__br_raw_20210318121019003_17_S1007834_I1422216_ROBEX_seg8.mat\n",
      "101972\n",
      "c4PPMI_3253_MR_SAG_FSPGR_3D_br_raw_20110318153406687_154_S101972_I224327_ROBEX.nii\n",
      "c5PPMI_3253_MR_SAG_FSPGR_3D_br_raw_20110318153406687_154_S101972_I224327_ROBEX.nii\n",
      "y_PPMI_3253_MR_SAG_FSPGR_3D_br_raw_20110318153406687_154_S101972_I224327_ROBEX.nii\n",
      "c1PPMI_3253_MR_SAG_FSPGR_3D_br_raw_20110318153406687_154_S101972_I224327_ROBEX.nii\n",
      "PPMI_3253_MR_SAG_FSPGR_3D_br_raw_20110318153406687_154_S101972_I224327_ROBEX.nii\n",
      "c3PPMI_3253_MR_SAG_FSPGR_3D_br_raw_20110318153406687_154_S101972_I224327_ROBEX.nii\n",
      "c2PPMI_3253_MR_SAG_FSPGR_3D_br_raw_20110318153406687_154_S101972_I224327_ROBEX.nii\n",
      "PPMI_3253_MR_SAG_FSPGR_3D_br_raw_20110318153406687_154_S101972_I224327_ROBEX_seg8.mat\n",
      "101555\n",
      "PPMI_3054_MR_SAG_3D_T1__br_raw_20110314145524670_83_S101555_I223782_ROBEX_seg8.mat\n",
      "c3PPMI_3054_MR_SAG_3D_T1__br_raw_20110314145524670_83_S101555_I223782_ROBEX.nii\n",
      "c2PPMI_3054_MR_SAG_3D_T1__br_raw_20110314145524670_83_S101555_I223782_ROBEX.nii\n",
      "y_PPMI_3054_MR_SAG_3D_T1__br_raw_20110314145524670_83_S101555_I223782_ROBEX.nii\n",
      "c1PPMI_3054_MR_SAG_3D_T1__br_raw_20110314145524670_83_S101555_I223782_ROBEX.nii\n",
      "c5PPMI_3054_MR_SAG_3D_T1__br_raw_20110314145524670_83_S101555_I223782_ROBEX.nii\n",
      "PPMI_3054_MR_SAG_3D_T1__br_raw_20110314145524670_83_S101555_I223782_ROBEX.nii\n",
      "c4PPMI_3054_MR_SAG_3D_T1__br_raw_20110314145524670_83_S101555_I223782_ROBEX.nii\n"
     ]
    }
   ],
   "source": [
    "path = '/w/284/gzk/step5/'\n",
    "cnt = 0\n",
    "subj_lists = os.listdir(path)\n",
    "for subj in subj_lists:\n",
    "    tmp = os.listdir(os.path.join(path, subj))\n",
    "    if len(tmp) > 1:\n",
    "        cnt += 1\n",
    "        print(subj)\n",
    "        for item in tmp:\n",
    "            print(item)\n",
    "    "
   ]
  },
  {
   "cell_type": "code",
   "execution_count": 28,
   "id": "85e3a061",
   "metadata": {
    "scrolled": true
   },
   "outputs": [
    {
     "data": {
      "text/plain": [
       "19"
      ]
     },
     "execution_count": 28,
     "metadata": {},
     "output_type": "execute_result"
    }
   ],
   "source": [
    "cnt"
   ]
  },
  {
   "cell_type": "code",
   "execution_count": 30,
   "id": "17be14db",
   "metadata": {},
   "outputs": [
    {
     "data": {
      "text/plain": [
       "4816"
      ]
     },
     "execution_count": 30,
     "metadata": {},
     "output_type": "execute_result"
    }
   ],
   "source": [
    "path_step5 = '/w/247/gzk/MRI_PD_sieved_task5/'\n",
    "step5_lists = os.listdir(path_step5)\n",
    "len(step5_lists)"
   ]
  },
  {
   "cell_type": "code",
   "execution_count": 31,
   "id": "5631172e",
   "metadata": {},
   "outputs": [
    {
     "name": "stdout",
     "output_type": "stream",
     "text": [
      "602\n"
     ]
    }
   ],
   "source": [
    "cnt = 0\n",
    "for img in step5_lists:\n",
    "    if 'c1' in img:\n",
    "         cnt += 1\n",
    "            \n",
    "print(cnt)            "
   ]
  },
  {
   "cell_type": "code",
   "execution_count": 32,
   "id": "bfb63d5c",
   "metadata": {},
   "outputs": [],
   "source": [
    "from models import *"
   ]
  },
  {
   "cell_type": "code",
   "execution_count": 33,
   "id": "a0fb37f5",
   "metadata": {},
   "outputs": [
    {
     "data": {
      "text/plain": [
       "ResNet18Classifier(\n",
       "  (model): ResNet(\n",
       "    (conv1): Conv2d(3, 64, kernel_size=(7, 7), stride=(2, 2), padding=(3, 3), bias=False)\n",
       "    (bn1): BatchNorm2d(64, eps=1e-05, momentum=0.1, affine=True, track_running_stats=True)\n",
       "    (relu): ReLU(inplace=True)\n",
       "    (maxpool): MaxPool2d(kernel_size=3, stride=2, padding=1, dilation=1, ceil_mode=False)\n",
       "    (layer1): Sequential(\n",
       "      (0): BasicBlock(\n",
       "        (conv1): Conv2d(64, 64, kernel_size=(3, 3), stride=(1, 1), padding=(1, 1), bias=False)\n",
       "        (bn1): BatchNorm2d(64, eps=1e-05, momentum=0.1, affine=True, track_running_stats=True)\n",
       "        (relu): ReLU(inplace=True)\n",
       "        (conv2): Conv2d(64, 64, kernel_size=(3, 3), stride=(1, 1), padding=(1, 1), bias=False)\n",
       "        (bn2): BatchNorm2d(64, eps=1e-05, momentum=0.1, affine=True, track_running_stats=True)\n",
       "      )\n",
       "      (1): BasicBlock(\n",
       "        (conv1): Conv2d(64, 64, kernel_size=(3, 3), stride=(1, 1), padding=(1, 1), bias=False)\n",
       "        (bn1): BatchNorm2d(64, eps=1e-05, momentum=0.1, affine=True, track_running_stats=True)\n",
       "        (relu): ReLU(inplace=True)\n",
       "        (conv2): Conv2d(64, 64, kernel_size=(3, 3), stride=(1, 1), padding=(1, 1), bias=False)\n",
       "        (bn2): BatchNorm2d(64, eps=1e-05, momentum=0.1, affine=True, track_running_stats=True)\n",
       "      )\n",
       "    )\n",
       "    (layer2): Sequential(\n",
       "      (0): BasicBlock(\n",
       "        (conv1): Conv2d(64, 128, kernel_size=(3, 3), stride=(2, 2), padding=(1, 1), bias=False)\n",
       "        (bn1): BatchNorm2d(128, eps=1e-05, momentum=0.1, affine=True, track_running_stats=True)\n",
       "        (relu): ReLU(inplace=True)\n",
       "        (conv2): Conv2d(128, 128, kernel_size=(3, 3), stride=(1, 1), padding=(1, 1), bias=False)\n",
       "        (bn2): BatchNorm2d(128, eps=1e-05, momentum=0.1, affine=True, track_running_stats=True)\n",
       "        (downsample): Sequential(\n",
       "          (0): Conv2d(64, 128, kernel_size=(1, 1), stride=(2, 2), bias=False)\n",
       "          (1): BatchNorm2d(128, eps=1e-05, momentum=0.1, affine=True, track_running_stats=True)\n",
       "        )\n",
       "      )\n",
       "      (1): BasicBlock(\n",
       "        (conv1): Conv2d(128, 128, kernel_size=(3, 3), stride=(1, 1), padding=(1, 1), bias=False)\n",
       "        (bn1): BatchNorm2d(128, eps=1e-05, momentum=0.1, affine=True, track_running_stats=True)\n",
       "        (relu): ReLU(inplace=True)\n",
       "        (conv2): Conv2d(128, 128, kernel_size=(3, 3), stride=(1, 1), padding=(1, 1), bias=False)\n",
       "        (bn2): BatchNorm2d(128, eps=1e-05, momentum=0.1, affine=True, track_running_stats=True)\n",
       "      )\n",
       "    )\n",
       "    (layer3): Sequential(\n",
       "      (0): BasicBlock(\n",
       "        (conv1): Conv2d(128, 256, kernel_size=(3, 3), stride=(2, 2), padding=(1, 1), bias=False)\n",
       "        (bn1): BatchNorm2d(256, eps=1e-05, momentum=0.1, affine=True, track_running_stats=True)\n",
       "        (relu): ReLU(inplace=True)\n",
       "        (conv2): Conv2d(256, 256, kernel_size=(3, 3), stride=(1, 1), padding=(1, 1), bias=False)\n",
       "        (bn2): BatchNorm2d(256, eps=1e-05, momentum=0.1, affine=True, track_running_stats=True)\n",
       "        (downsample): Sequential(\n",
       "          (0): Conv2d(128, 256, kernel_size=(1, 1), stride=(2, 2), bias=False)\n",
       "          (1): BatchNorm2d(256, eps=1e-05, momentum=0.1, affine=True, track_running_stats=True)\n",
       "        )\n",
       "      )\n",
       "      (1): BasicBlock(\n",
       "        (conv1): Conv2d(256, 256, kernel_size=(3, 3), stride=(1, 1), padding=(1, 1), bias=False)\n",
       "        (bn1): BatchNorm2d(256, eps=1e-05, momentum=0.1, affine=True, track_running_stats=True)\n",
       "        (relu): ReLU(inplace=True)\n",
       "        (conv2): Conv2d(256, 256, kernel_size=(3, 3), stride=(1, 1), padding=(1, 1), bias=False)\n",
       "        (bn2): BatchNorm2d(256, eps=1e-05, momentum=0.1, affine=True, track_running_stats=True)\n",
       "      )\n",
       "    )\n",
       "    (layer4): Sequential(\n",
       "      (0): BasicBlock(\n",
       "        (conv1): Conv2d(256, 512, kernel_size=(3, 3), stride=(2, 2), padding=(1, 1), bias=False)\n",
       "        (bn1): BatchNorm2d(512, eps=1e-05, momentum=0.1, affine=True, track_running_stats=True)\n",
       "        (relu): ReLU(inplace=True)\n",
       "        (conv2): Conv2d(512, 512, kernel_size=(3, 3), stride=(1, 1), padding=(1, 1), bias=False)\n",
       "        (bn2): BatchNorm2d(512, eps=1e-05, momentum=0.1, affine=True, track_running_stats=True)\n",
       "        (downsample): Sequential(\n",
       "          (0): Conv2d(256, 512, kernel_size=(1, 1), stride=(2, 2), bias=False)\n",
       "          (1): BatchNorm2d(512, eps=1e-05, momentum=0.1, affine=True, track_running_stats=True)\n",
       "        )\n",
       "      )\n",
       "      (1): BasicBlock(\n",
       "        (conv1): Conv2d(512, 512, kernel_size=(3, 3), stride=(1, 1), padding=(1, 1), bias=False)\n",
       "        (bn1): BatchNorm2d(512, eps=1e-05, momentum=0.1, affine=True, track_running_stats=True)\n",
       "        (relu): ReLU(inplace=True)\n",
       "        (conv2): Conv2d(512, 512, kernel_size=(3, 3), stride=(1, 1), padding=(1, 1), bias=False)\n",
       "        (bn2): BatchNorm2d(512, eps=1e-05, momentum=0.1, affine=True, track_running_stats=True)\n",
       "      )\n",
       "    )\n",
       "    (avgpool): AdaptiveAvgPool2d(output_size=(1, 1))\n",
       "    (fc): Linear(in_features=512, out_features=4, bias=True)\n",
       "  )\n",
       "  (softmax): Softmax(dim=None)\n",
       ")"
      ]
     },
     "execution_count": 33,
     "metadata": {},
     "output_type": "execute_result"
    }
   ],
   "source": [
    "ResNet18Classifier()"
   ]
  },
  {
   "cell_type": "markdown",
   "id": "c4844805",
   "metadata": {},
   "source": [
    "### "
   ]
  }
 ],
 "metadata": {
  "kernelspec": {
   "display_name": "Python 3 (ipykernel)",
   "language": "python",
   "name": "python3"
  },
  "language_info": {
   "codemirror_mode": {
    "name": "ipython",
    "version": 3
   },
   "file_extension": ".py",
   "mimetype": "text/x-python",
   "name": "python",
   "nbconvert_exporter": "python",
   "pygments_lexer": "ipython3",
   "version": "3.9.5"
  }
 },
 "nbformat": 4,
 "nbformat_minor": 5
}
